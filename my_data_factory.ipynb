{
 "cells": [
  {
   "cell_type": "markdown",
   "metadata": {},
   "source": [
    "Criando charts completos de todos os anos 2017-2019"
   ]
  },
  {
   "cell_type": "code",
   "execution_count": 21,
   "metadata": {},
   "outputs": [],
   "source": [
    "# criação dos charts\n",
    "import pandas as pd\n",
    "import glob\n",
    "\n",
    "df_charts = pd.DataFrame()\n",
    "folder= 'us'\n",
    "pais = 'united_states'\n",
    "\n",
    "list_years = [2017, 2018, 2019]\n",
    "for y in list_years:\n",
    "    year = y\n",
    "    \n",
    "    arquivos = glob.glob('songs_data/charts/'+folder+\"/\"+ str(year) +'/*.csv')\n",
    "\n",
    "    week=0\n",
    "    for a in arquivos:\n",
    "        week += 1\n",
    "        df = pd.read_csv(a, delimiter='\\t')\n",
    "        df['year'] = year\n",
    "        df['week'] = week\n",
    "        df['country'] = pais\n",
    "        df_charts = pd.concat([df_charts, df], ignore_index=True)\n",
    "\n",
    "# print(df_charts.head())\n",
    "df_charts.to_csv('my_data/charts/'+pais+'_charts.csv', index=False)"
   ]
  },
  {
   "cell_type": "markdown",
   "metadata": {},
   "source": [
    "concatenando arquivos charts"
   ]
  },
  {
   "cell_type": "code",
   "execution_count": 4,
   "metadata": {},
   "outputs": [
    {
     "name": "stdout",
     "output_type": "stream",
     "text": [
      "<class 'pandas.core.frame.DataFrame'>\n",
      "RangeIndex: 273600 entries, 0 to 273599\n",
      "Data columns (total 12 columns):\n",
      " #   Column              Non-Null Count   Dtype  \n",
      "---  ------              --------------   -----  \n",
      " 0   position            273600 non-null  int64  \n",
      " 1   song_id             273600 non-null  object \n",
      " 2   song_name           273457 non-null  object \n",
      " 3   artist              273459 non-null  object \n",
      " 4   streams             273600 non-null  int64  \n",
      " 5   last_week_position  238803 non-null  float64\n",
      " 6   weeks_on_chart      273600 non-null  int64  \n",
      " 7   peak_position       273600 non-null  int64  \n",
      " 8   position_status     273600 non-null  object \n",
      " 9   year                273600 non-null  int64  \n",
      " 10  week                273600 non-null  int64  \n",
      " 11  country             273600 non-null  object \n",
      "dtypes: float64(1), int64(6), object(5)\n",
      "memory usage: 25.0+ MB\n",
      "None\n"
     ]
    }
   ],
   "source": [
    "import os\n",
    "import pandas as pd\n",
    "\n",
    "diretorio = 'my_data/charts/'\n",
    "arquivos = os.listdir(diretorio)\n",
    "\n",
    "arquivos_csv = [arquivo for arquivo in arquivos if arquivo.endswith('.csv')]\n",
    "\n",
    "dfs = []\n",
    "for arquivo_csv in arquivos_csv:\n",
    "    caminho_arquivo = os.path.join(diretorio, arquivo_csv)\n",
    "    df = pd.read_csv(caminho_arquivo)\n",
    "    dfs.append(df)\n",
    "\n",
    "df_concatenado = pd.concat(dfs, ignore_index=True)\n",
    "df_concatenado.to_csv('my_data/charts/total_charts.csv', index=False)\n",
    "\n",
    "print(df_concatenado.info())"
   ]
  },
  {
   "cell_type": "code",
   "execution_count": null,
   "metadata": {},
   "outputs": [],
   "source": []
  }
 ],
 "metadata": {
  "kernelspec": {
   "display_name": "venv",
   "language": "python",
   "name": "python3"
  },
  "language_info": {
   "codemirror_mode": {
    "name": "ipython",
    "version": 3
   },
   "file_extension": ".py",
   "mimetype": "text/x-python",
   "name": "python",
   "nbconvert_exporter": "python",
   "pygments_lexer": "ipython3",
   "version": "3.10.3"
  }
 },
 "nbformat": 4,
 "nbformat_minor": 2
}
