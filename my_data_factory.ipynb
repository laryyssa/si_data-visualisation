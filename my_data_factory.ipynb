{
 "cells": [
  {
   "cell_type": "markdown",
   "metadata": {},
   "source": [
    "Criando charts completos de todos os anos 2017-2019"
   ]
  },
  {
   "cell_type": "code",
   "execution_count": 21,
   "metadata": {},
   "outputs": [],
   "source": [
    "# criação dos charts\n",
    "import pandas as pd\n",
    "import glob\n",
    "\n",
    "df_charts = pd.DataFrame()\n",
    "folder= 'us'\n",
    "pais = 'united_states'\n",
    "\n",
    "list_years = [2017, 2018, 2019]\n",
    "for y in list_years:\n",
    "    year = y\n",
    "    \n",
    "    arquivos = glob.glob('songs_data/charts/'+folder+\"/\"+ str(year) +'/*.csv')\n",
    "\n",
    "    week=0\n",
    "    for a in arquivos:\n",
    "        week += 1\n",
    "        df = pd.read_csv(a, delimiter='\\t')\n",
    "        df['year'] = year\n",
    "        df['week'] = week\n",
    "        df['country'] = pais\n",
    "        df_charts = pd.concat([df_charts, df], ignore_index=True)\n",
    "\n",
    "# print(df_charts.head())\n",
    "df_charts.to_csv('my_data/'+pais+'_charts.csv', index=False)"
   ]
  },
  {
   "cell_type": "code",
   "execution_count": null,
   "metadata": {},
   "outputs": [],
   "source": [
    "import os\n",
    "\n",
    "diretorio = '../my_data/charts/'\n",
    "arquivos = os.listdir(diretorio)\n",
    "\n",
    "arquivos_csv = [arquivo for arquivo in arquivos if arquivo.endswith('.csv')]\n",
    "\n",
    "dfs = []\n",
    "\n",
    "# Iterar sobre os arquivos e ler cada um como DataFrame, adicionando à lista\n",
    "for arquivo_csv in arquivos_csv:\n",
    "    caminho_arquivo = os.path.join(diretorio, arquivo_csv)\n",
    "    df = pd.read_csv(caminho_arquivo)\n",
    "    dfs.append(df)\n",
    "\n",
    "# Concatenar todos os DataFrames na lista em um único DataFrame\n",
    "df_concatenado = pd.concat(dfs, ignore_index=True)\n",
    "\n",
    "# Exibir informações sobre o DataFrame resultante\n",
    "print(df_concatenado.info())"
   ]
  },
  {
   "cell_type": "code",
   "execution_count": null,
   "metadata": {},
   "outputs": [],
   "source": []
  }
 ],
 "metadata": {
  "kernelspec": {
   "display_name": "venv",
   "language": "python",
   "name": "python3"
  },
  "language_info": {
   "codemirror_mode": {
    "name": "ipython",
    "version": 3
   },
   "file_extension": ".py",
   "mimetype": "text/x-python",
   "name": "python",
   "nbconvert_exporter": "python",
   "pygments_lexer": "ipython3",
   "version": "3.10.3"
  }
 },
 "nbformat": 4,
 "nbformat_minor": 2
}
