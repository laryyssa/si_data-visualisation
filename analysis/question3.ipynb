{
 "cells": [
  {
   "cell_type": "code",
   "execution_count": 1,
   "metadata": {},
   "outputs": [],
   "source": [
    "import pandas as pd\n",
    "import altair as alt"
   ]
  },
  {
   "cell_type": "code",
   "execution_count": 4,
   "metadata": {},
   "outputs": [
    {
     "data": {
      "text/plain": [
       "Index(['song_id', 'song_name', 'artist_id', 'artist_name', 'popularity',\n",
       "       'explicit', 'song_type', 'track_number', 'num_artists',\n",
       "       'num_available_markets', 'release_date', 'duration_ms', 'key', 'mode',\n",
       "       'time_signature', 'acousticness', 'danceability', 'energy',\n",
       "       'instrumentalness', 'liveness', 'loudness', 'speechiness', 'valence',\n",
       "       'tempo'],\n",
       "      dtype='object')"
      ]
     },
     "execution_count": 4,
     "metadata": {},
     "output_type": "execute_result"
    }
   ],
   "source": [
    "hit_songs = pd.read_csv('../songs_data/hit_songs/spotify_hits_dataset_complete.csv', delimiter='\\t')\n",
    "hit_songs.columns"
   ]
  },
  {
   "cell_type": "code",
   "execution_count": 7,
   "metadata": {},
   "outputs": [
    {
     "name": "stdout",
     "output_type": "stream",
     "text": [
      "<class 'pandas.core.frame.DataFrame'>\n",
      "RangeIndex: 13880 entries, 0 to 13879\n",
      "Data columns (total 24 columns):\n",
      " #   Column                 Non-Null Count  Dtype  \n",
      "---  ------                 --------------  -----  \n",
      " 0   song_id                13880 non-null  object \n",
      " 1   song_name              13855 non-null  object \n",
      " 2   artist_id              13880 non-null  object \n",
      " 3   artist_name            13880 non-null  object \n",
      " 4   popularity             13880 non-null  int64  \n",
      " 5   explicit               13880 non-null  bool   \n",
      " 6   song_type              13880 non-null  object \n",
      " 7   track_number           13880 non-null  int64  \n",
      " 8   num_artists            13880 non-null  int64  \n",
      " 9   num_available_markets  13880 non-null  int64  \n",
      " 10  release_date           13880 non-null  object \n",
      " 11  duration_ms            13880 non-null  int64  \n",
      " 12  key                    13880 non-null  int64  \n",
      " 13  mode                   13880 non-null  int64  \n",
      " 14  time_signature         13880 non-null  int64  \n",
      " 15  acousticness           13880 non-null  float64\n",
      " 16  danceability           13880 non-null  float64\n",
      " 17  energy                 13880 non-null  float64\n",
      " 18  instrumentalness       13880 non-null  float64\n",
      " 19  liveness               13880 non-null  float64\n",
      " 20  loudness               13880 non-null  float64\n",
      " 21  speechiness            13880 non-null  float64\n",
      " 22  valence                13880 non-null  float64\n",
      " 23  tempo                  13880 non-null  float64\n",
      "dtypes: bool(1), float64(9), int64(8), object(6)\n",
      "memory usage: 2.4+ MB\n"
     ]
    }
   ],
   "source": [
    "hit_songs.info()"
   ]
  },
  {
   "cell_type": "code",
   "execution_count": 18,
   "metadata": {},
   "outputs": [
    {
     "data": {
      "text/plain": [
       "<bound method NDFrame.describe of 0        2018-08-03\n",
       "1        2019-06-21\n",
       "2        2017-05-12\n",
       "3        2011-04-08\n",
       "4        2017-10-20\n",
       "            ...    \n",
       "13875    2019-08-23\n",
       "13876    2017-05-19\n",
       "13877    2018-10-15\n",
       "13878    2017-04-28\n",
       "13879    2019-08-30\n",
       "Name: release_date, Length: 13880, dtype: object>"
      ]
     },
     "execution_count": 18,
     "metadata": {},
     "output_type": "execute_result"
    }
   ],
   "source": [
    "hit_songs['release_date'].describe"
   ]
  },
  {
   "cell_type": "code",
   "execution_count": 45,
   "metadata": {},
   "outputs": [
    {
     "data": {
      "text/plain": [
       "Index(['song_id', 'song_name', 'artist_id', 'artist_name', 'popularity',\n",
       "       'explicit', 'song_type', 'track_number', 'num_artists',\n",
       "       'num_available_markets', 'release_date', 'duration_ms', 'key', 'mode',\n",
       "       'time_signature', 'acousticness', 'danceability', 'energy',\n",
       "       'instrumentalness', 'liveness', 'loudness', 'speechiness', 'valence',\n",
       "       'tempo', 'year', 'year_release'],\n",
       "      dtype='object')"
      ]
     },
     "execution_count": 45,
     "metadata": {},
     "output_type": "execute_result"
    }
   ],
   "source": [
    "hit_songs['release_date'] = pd.to_datetime(hit_songs['release_date'], errors='coerce')\n",
    "hit_songs['year_release'] = hit_songs['release_date'].dt.year.where(hit_songs['release_date'].notnull(), hit_songs['release_date'].astype(str).str[:4])\n",
    "hit_songs['year_release'] =  pd.to_numeric(hit_songs['year_release'], errors='coerce', downcast='integer')\n",
    "hit_songs = hit_songs.dropna(subset=['year_release'])\n",
    "hit_songs['year_release'] = hit_songs['year_release'].astype(int)\n",
    "hit_songs.columns\n"
   ]
  },
  {
   "cell_type": "code",
   "execution_count": 48,
   "metadata": {},
   "outputs": [
    {
     "ename": "SchemaValidationError",
     "evalue": "`FilterTransform` has no parameter named 'expr'\n\nExisting parameter names are:\nfilter   \n\nSee the help for `FilterTransform` to read the full description of these parameters",
     "output_type": "error",
     "traceback": [
      "\u001b[1;31m---------------------------------------------------------------------------\u001b[0m",
      "\u001b[1;31mSchemaValidationError\u001b[0m                     Traceback (most recent call last)",
      "\u001b[1;32mc:\\Users\\larys\\OneDrive\\Documentos\\Sistemas de Informação\\2023.2\\Visualização de Dados\\Trabalhos\\Trabalho 02\\analysis\\question3.ipynb Cell 6\u001b[0m line \u001b[0;36m3\n\u001b[0;32m     <a href='vscode-notebook-cell:/c%3A/Users/larys/OneDrive/Documentos/Sistemas%20de%20Informa%C3%A7%C3%A3o/2023.2/Visualiza%C3%A7%C3%A3o%20de%20Dados/Trabalhos/Trabalho%2002/analysis/question3.ipynb#W2sZmlsZQ%3D%3D?line=13'>14</a>\u001b[0m dropdown_year_release \u001b[39m=\u001b[39m alt\u001b[39m.\u001b[39mbinding_select(\n\u001b[0;32m     <a href='vscode-notebook-cell:/c%3A/Users/larys/OneDrive/Documentos/Sistemas%20de%20Informa%C3%A7%C3%A3o/2023.2/Visualiza%C3%A7%C3%A3o%20de%20Dados/Trabalhos/Trabalho%2002/analysis/question3.ipynb#W2sZmlsZQ%3D%3D?line=14'>15</a>\u001b[0m     options\u001b[39m=\u001b[39m list_years,\n\u001b[0;32m     <a href='vscode-notebook-cell:/c%3A/Users/larys/OneDrive/Documentos/Sistemas%20de%20Informa%C3%A7%C3%A3o/2023.2/Visualiza%C3%A7%C3%A3o%20de%20Dados/Trabalhos/Trabalho%2002/analysis/question3.ipynb#W2sZmlsZQ%3D%3D?line=15'>16</a>\u001b[0m     name\u001b[39m=\u001b[39m\u001b[39m'\u001b[39m\u001b[39mEscolha um ano de lançamento \u001b[39m\u001b[39m'\u001b[39m\n\u001b[0;32m     <a href='vscode-notebook-cell:/c%3A/Users/larys/OneDrive/Documentos/Sistemas%20de%20Informa%C3%A7%C3%A3o/2023.2/Visualiza%C3%A7%C3%A3o%20de%20Dados/Trabalhos/Trabalho%2002/analysis/question3.ipynb#W2sZmlsZQ%3D%3D?line=16'>17</a>\u001b[0m )\n\u001b[0;32m     <a href='vscode-notebook-cell:/c%3A/Users/larys/OneDrive/Documentos/Sistemas%20de%20Informa%C3%A7%C3%A3o/2023.2/Visualiza%C3%A7%C3%A3o%20de%20Dados/Trabalhos/Trabalho%2002/analysis/question3.ipynb#W2sZmlsZQ%3D%3D?line=17'>18</a>\u001b[0m year_release_param \u001b[39m=\u001b[39m alt\u001b[39m.\u001b[39mparam(\n\u001b[0;32m     <a href='vscode-notebook-cell:/c%3A/Users/larys/OneDrive/Documentos/Sistemas%20de%20Informa%C3%A7%C3%A3o/2023.2/Visualiza%C3%A7%C3%A3o%20de%20Dados/Trabalhos/Trabalho%2002/analysis/question3.ipynb#W2sZmlsZQ%3D%3D?line=18'>19</a>\u001b[0m     value\u001b[39m=\u001b[39m\u001b[39m2017\u001b[39m,\n\u001b[0;32m     <a href='vscode-notebook-cell:/c%3A/Users/larys/OneDrive/Documentos/Sistemas%20de%20Informa%C3%A7%C3%A3o/2023.2/Visualiza%C3%A7%C3%A3o%20de%20Dados/Trabalhos/Trabalho%2002/analysis/question3.ipynb#W2sZmlsZQ%3D%3D?line=19'>20</a>\u001b[0m     bind\u001b[39m=\u001b[39mdropdown_year_release\n\u001b[0;32m     <a href='vscode-notebook-cell:/c%3A/Users/larys/OneDrive/Documentos/Sistemas%20de%20Informa%C3%A7%C3%A3o/2023.2/Visualiza%C3%A7%C3%A3o%20de%20Dados/Trabalhos/Trabalho%2002/analysis/question3.ipynb#W2sZmlsZQ%3D%3D?line=20'>21</a>\u001b[0m )\n\u001b[0;32m     <a href='vscode-notebook-cell:/c%3A/Users/larys/OneDrive/Documentos/Sistemas%20de%20Informa%C3%A7%C3%A3o/2023.2/Visualiza%C3%A7%C3%A3o%20de%20Dados/Trabalhos/Trabalho%2002/analysis/question3.ipynb#W2sZmlsZQ%3D%3D?line=22'>23</a>\u001b[0m points \u001b[39m=\u001b[39m alt\u001b[39m.\u001b[39;49mChart(data, width\u001b[39m=\u001b[39;49m\u001b[39m500\u001b[39;49m, height\u001b[39m=\u001b[39;49m\u001b[39m500\u001b[39;49m)\u001b[39m.\u001b[39;49mmark_circle()\u001b[39m.\u001b[39;49mencode(\n\u001b[0;32m     <a href='vscode-notebook-cell:/c%3A/Users/larys/OneDrive/Documentos/Sistemas%20de%20Informa%C3%A7%C3%A3o/2023.2/Visualiza%C3%A7%C3%A3o%20de%20Dados/Trabalhos/Trabalho%2002/analysis/question3.ipynb#W2sZmlsZQ%3D%3D?line=23'>24</a>\u001b[0m     alt\u001b[39m.\u001b[39;49mX(\u001b[39m'\u001b[39;49m\u001b[39mx\u001b[39;49m\u001b[39m'\u001b[39;49m, \u001b[39mtype\u001b[39;49m\u001b[39m=\u001b[39;49m\u001b[39m'\u001b[39;49m\u001b[39mquantitative\u001b[39;49m\u001b[39m'\u001b[39;49m),\n\u001b[0;32m     <a href='vscode-notebook-cell:/c%3A/Users/larys/OneDrive/Documentos/Sistemas%20de%20Informa%C3%A7%C3%A3o/2023.2/Visualiza%C3%A7%C3%A3o%20de%20Dados/Trabalhos/Trabalho%2002/analysis/question3.ipynb#W2sZmlsZQ%3D%3D?line=24'>25</a>\u001b[0m     alt\u001b[39m.\u001b[39;49mY(\u001b[39m'\u001b[39;49m\u001b[39mpopularity\u001b[39;49m\u001b[39m'\u001b[39;49m, \u001b[39mtype\u001b[39;49m\u001b[39m=\u001b[39;49m\u001b[39m'\u001b[39;49m\u001b[39mquantitative\u001b[39;49m\u001b[39m'\u001b[39;49m, title\u001b[39m=\u001b[39;49m\u001b[39m'\u001b[39;49m\u001b[39mPopularidade da Música\u001b[39;49m\u001b[39m'\u001b[39;49m),\n\u001b[0;32m     <a href='vscode-notebook-cell:/c%3A/Users/larys/OneDrive/Documentos/Sistemas%20de%20Informa%C3%A7%C3%A3o/2023.2/Visualiza%C3%A7%C3%A3o%20de%20Dados/Trabalhos/Trabalho%2002/analysis/question3.ipynb#W2sZmlsZQ%3D%3D?line=25'>26</a>\u001b[0m     color\u001b[39m=\u001b[39;49malt\u001b[39m.\u001b[39;49mColor(\u001b[39m'\u001b[39;49m\u001b[39myear_release:N\u001b[39;49m\u001b[39m'\u001b[39;49m, title\u001b[39m=\u001b[39;49m\u001b[39m'\u001b[39;49m\u001b[39mAno de Lançamento\u001b[39;49m\u001b[39m'\u001b[39;49m)\u001b[39m.\u001b[39;49mscale(domain\u001b[39m=\u001b[39;49mlist_years)\n\u001b[0;32m     <a href='vscode-notebook-cell:/c%3A/Users/larys/OneDrive/Documentos/Sistemas%20de%20Informa%C3%A7%C3%A3o/2023.2/Visualiza%C3%A7%C3%A3o%20de%20Dados/Trabalhos/Trabalho%2002/analysis/question3.ipynb#W2sZmlsZQ%3D%3D?line=26'>27</a>\u001b[0m )\u001b[39m.\u001b[39;49mtransform_calculate(\n\u001b[0;32m     <a href='vscode-notebook-cell:/c%3A/Users/larys/OneDrive/Documentos/Sistemas%20de%20Informa%C3%A7%C3%A3o/2023.2/Visualiza%C3%A7%C3%A3o%20de%20Dados/Trabalhos/Trabalho%2002/analysis/question3.ipynb#W2sZmlsZQ%3D%3D?line=27'>28</a>\u001b[0m     x\u001b[39m=\u001b[39;49m\u001b[39mf\u001b[39;49m\u001b[39m'\u001b[39;49m\u001b[39mdatum[\u001b[39;49m\u001b[39m{\u001b[39;49;00mxcol_param\u001b[39m.\u001b[39;49mname\u001b[39m}\u001b[39;49;00m\u001b[39m]\u001b[39;49m\u001b[39m'\u001b[39;49m\n\u001b[0;32m     <a href='vscode-notebook-cell:/c%3A/Users/larys/OneDrive/Documentos/Sistemas%20de%20Informa%C3%A7%C3%A3o/2023.2/Visualiza%C3%A7%C3%A3o%20de%20Dados/Trabalhos/Trabalho%2002/analysis/question3.ipynb#W2sZmlsZQ%3D%3D?line=28'>29</a>\u001b[0m )\u001b[39m.\u001b[39;49madd_params(\n\u001b[0;32m     <a href='vscode-notebook-cell:/c%3A/Users/larys/OneDrive/Documentos/Sistemas%20de%20Informa%C3%A7%C3%A3o/2023.2/Visualiza%C3%A7%C3%A3o%20de%20Dados/Trabalhos/Trabalho%2002/analysis/question3.ipynb#W2sZmlsZQ%3D%3D?line=29'>30</a>\u001b[0m     xcol_param,\n\u001b[0;32m     <a href='vscode-notebook-cell:/c%3A/Users/larys/OneDrive/Documentos/Sistemas%20de%20Informa%C3%A7%C3%A3o/2023.2/Visualiza%C3%A7%C3%A3o%20de%20Dados/Trabalhos/Trabalho%2002/analysis/question3.ipynb#W2sZmlsZQ%3D%3D?line=30'>31</a>\u001b[0m     year_release_param\n\u001b[1;32m---> <a href='vscode-notebook-cell:/c%3A/Users/larys/OneDrive/Documentos/Sistemas%20de%20Informa%C3%A7%C3%A3o/2023.2/Visualiza%C3%A7%C3%A3o%20de%20Dados/Trabalhos/Trabalho%2002/analysis/question3.ipynb#W2sZmlsZQ%3D%3D?line=31'>32</a>\u001b[0m )\u001b[39m.\u001b[39;49mtransform_filter(\n\u001b[0;32m     <a href='vscode-notebook-cell:/c%3A/Users/larys/OneDrive/Documentos/Sistemas%20de%20Informa%C3%A7%C3%A3o/2023.2/Visualiza%C3%A7%C3%A3o%20de%20Dados/Trabalhos/Trabalho%2002/analysis/question3.ipynb#W2sZmlsZQ%3D%3D?line=32'>33</a>\u001b[0m     \u001b[39m# year_release_param\u001b[39;49;00m\n\u001b[0;32m     <a href='vscode-notebook-cell:/c%3A/Users/larys/OneDrive/Documentos/Sistemas%20de%20Informa%C3%A7%C3%A3o/2023.2/Visualiza%C3%A7%C3%A3o%20de%20Dados/Trabalhos/Trabalho%2002/analysis/question3.ipynb#W2sZmlsZQ%3D%3D?line=33'>34</a>\u001b[0m     alt\u001b[39m.\u001b[39;49mexpr(\u001b[39m'\u001b[39;49m\u001b[39mdatum.year_release >= current(year_release_param)\u001b[39;49m\u001b[39m'\u001b[39;49m)\n\u001b[0;32m     <a href='vscode-notebook-cell:/c%3A/Users/larys/OneDrive/Documentos/Sistemas%20de%20Informa%C3%A7%C3%A3o/2023.2/Visualiza%C3%A7%C3%A3o%20de%20Dados/Trabalhos/Trabalho%2002/analysis/question3.ipynb#W2sZmlsZQ%3D%3D?line=34'>35</a>\u001b[0m )\n\u001b[0;32m     <a href='vscode-notebook-cell:/c%3A/Users/larys/OneDrive/Documentos/Sistemas%20de%20Informa%C3%A7%C3%A3o/2023.2/Visualiza%C3%A7%C3%A3o%20de%20Dados/Trabalhos/Trabalho%2002/analysis/question3.ipynb#W2sZmlsZQ%3D%3D?line=36'>37</a>\u001b[0m points \n",
      "File \u001b[1;32mc:\\Users\\larys\\OneDrive\\Documentos\\Sistemas de Informação\\2023.2\\Visualização de Dados\\Trabalhos\\Trabalho 02\\venv\\lib\\site-packages\\altair\\vegalite\\v5\\api.py:1753\u001b[0m, in \u001b[0;36mTopLevelMixin.transform_filter\u001b[1;34m(self, filter, **kwargs)\u001b[0m\n\u001b[0;32m   1751\u001b[0m         new_filter[\u001b[39m\"\u001b[39m\u001b[39mempty\u001b[39m\u001b[39m\"\u001b[39m] \u001b[39m=\u001b[39m \u001b[39mfilter\u001b[39m\u001b[39m.\u001b[39mempty\n\u001b[0;32m   1752\u001b[0m     \u001b[39mfilter\u001b[39m \u001b[39m=\u001b[39m new_filter\n\u001b[1;32m-> 1753\u001b[0m \u001b[39mreturn\u001b[39;00m \u001b[39mself\u001b[39m\u001b[39m.\u001b[39m_add_transform(core\u001b[39m.\u001b[39mFilterTransform(\u001b[39mfilter\u001b[39m\u001b[39m=\u001b[39m\u001b[39mfilter\u001b[39m, \u001b[39m*\u001b[39m\u001b[39m*\u001b[39mkwargs))\n",
      "File \u001b[1;32mc:\\Users\\larys\\OneDrive\\Documentos\\Sistemas de Informação\\2023.2\\Visualização de Dados\\Trabalhos\\Trabalho 02\\venv\\lib\\site-packages\\altair\\vegalite\\v5\\schema\\core.py:20562\u001b[0m, in \u001b[0;36mFilterTransform.__init__\u001b[1;34m(self, filter, **kwds)\u001b[0m\n\u001b[0;32m  20561\u001b[0m \u001b[39mdef\u001b[39;00m \u001b[39m__init__\u001b[39m(\u001b[39mself\u001b[39m, \u001b[39mfilter\u001b[39m\u001b[39m=\u001b[39mUndefined, \u001b[39m*\u001b[39m\u001b[39m*\u001b[39mkwds):\n\u001b[1;32m> 20562\u001b[0m     \u001b[39msuper\u001b[39m(FilterTransform, \u001b[39mself\u001b[39m)\u001b[39m.\u001b[39m\u001b[39m__init__\u001b[39m(\u001b[39mfilter\u001b[39m\u001b[39m=\u001b[39m\u001b[39mfilter\u001b[39m, \u001b[39m*\u001b[39m\u001b[39m*\u001b[39mkwds)\n",
      "File \u001b[1;32mc:\\Users\\larys\\OneDrive\\Documentos\\Sistemas de Informação\\2023.2\\Visualização de Dados\\Trabalhos\\Trabalho 02\\venv\\lib\\site-packages\\altair\\vegalite\\v5\\schema\\core.py:20374\u001b[0m, in \u001b[0;36mTransform.__init__\u001b[1;34m(self, *args, **kwds)\u001b[0m\n\u001b[0;32m  20373\u001b[0m \u001b[39mdef\u001b[39;00m \u001b[39m__init__\u001b[39m(\u001b[39mself\u001b[39m, \u001b[39m*\u001b[39margs, \u001b[39m*\u001b[39m\u001b[39m*\u001b[39mkwds):\n\u001b[1;32m> 20374\u001b[0m     \u001b[39msuper\u001b[39m(Transform, \u001b[39mself\u001b[39m)\u001b[39m.\u001b[39m\u001b[39m__init__\u001b[39m(\u001b[39m*\u001b[39margs, \u001b[39m*\u001b[39m\u001b[39m*\u001b[39mkwds)\n",
      "File \u001b[1;32mc:\\Users\\larys\\OneDrive\\Documentos\\Sistemas de Informação\\2023.2\\Visualização de Dados\\Trabalhos\\Trabalho 02\\venv\\lib\\site-packages\\altair\\utils\\schemapi.py:776\u001b[0m, in \u001b[0;36mSchemaBase.__init__\u001b[1;34m(self, *args, **kwds)\u001b[0m\n\u001b[0;32m    773\u001b[0m \u001b[39mobject\u001b[39m\u001b[39m.\u001b[39m\u001b[39m__setattr__\u001b[39m(\u001b[39mself\u001b[39m, \u001b[39m\"\u001b[39m\u001b[39m_kwds\u001b[39m\u001b[39m\"\u001b[39m, kwds)\n\u001b[0;32m    775\u001b[0m \u001b[39mif\u001b[39;00m DEBUG_MODE \u001b[39mand\u001b[39;00m \u001b[39mself\u001b[39m\u001b[39m.\u001b[39m_class_is_valid_at_instantiation:\n\u001b[1;32m--> 776\u001b[0m     \u001b[39mself\u001b[39;49m\u001b[39m.\u001b[39;49mto_dict(validate\u001b[39m=\u001b[39;49m\u001b[39mTrue\u001b[39;49;00m)\n",
      "File \u001b[1;32mc:\\Users\\larys\\OneDrive\\Documentos\\Sistemas de Informação\\2023.2\\Visualização de Dados\\Trabalhos\\Trabalho 02\\venv\\lib\\site-packages\\altair\\utils\\schemapi.py:983\u001b[0m, in \u001b[0;36mSchemaBase.to_dict\u001b[1;34m(self, validate, ignore, context)\u001b[0m\n\u001b[0;32m    976\u001b[0m         \u001b[39mself\u001b[39m\u001b[39m.\u001b[39mvalidate(result)\n\u001b[0;32m    977\u001b[0m     \u001b[39mexcept\u001b[39;00m jsonschema\u001b[39m.\u001b[39mValidationError \u001b[39mas\u001b[39;00m err:\n\u001b[0;32m    978\u001b[0m         \u001b[39m# We do not raise `from err` as else the resulting\u001b[39;00m\n\u001b[0;32m    979\u001b[0m         \u001b[39m# traceback is very long as it contains part\u001b[39;00m\n\u001b[0;32m    980\u001b[0m         \u001b[39m# of the Vega-Lite schema. It would also first\u001b[39;00m\n\u001b[0;32m    981\u001b[0m         \u001b[39m# show the less helpful ValidationError instead of\u001b[39;00m\n\u001b[0;32m    982\u001b[0m         \u001b[39m# the more user friendly SchemaValidationError\u001b[39;00m\n\u001b[1;32m--> 983\u001b[0m         \u001b[39mraise\u001b[39;00m SchemaValidationError(\u001b[39mself\u001b[39m, err) \u001b[39mfrom\u001b[39;00m \u001b[39mNone\u001b[39;00m\n\u001b[0;32m    984\u001b[0m \u001b[39mreturn\u001b[39;00m result\n",
      "\u001b[1;31mSchemaValidationError\u001b[0m: `FilterTransform` has no parameter named 'expr'\n\nExisting parameter names are:\nfilter   \n\nSee the help for `FilterTransform` to read the full description of these parameters"
     ]
    }
   ],
   "source": [
    "data = hit_songs.copy().head(1000)\n",
    "\n",
    "dropdown_xcol = alt.binding_select(\n",
    "    options=['danceability', 'energy', 'duration_ms', 'valence'],\n",
    "    name='X-axis column '\n",
    ")\n",
    "xcol_param = alt.param(\n",
    "    value='danceability',\n",
    "    bind=dropdown_xcol\n",
    ")\n",
    "\n",
    "\n",
    "list_years = sorted(data['year_release'].unique().tolist())\n",
    "dropdown_year_release = alt.binding_select(\n",
    "    options= list_years,\n",
    "    name='Escolha um ano de lançamento '\n",
    ")\n",
    "year_release_param = alt.param(\n",
    "    value=2017,\n",
    "    bind=dropdown_year_release\n",
    ")\n",
    "\n",
    "points = alt.Chart(data, width=500, height=500).mark_circle().encode(\n",
    "    alt.X('x', type='quantitative'),\n",
    "    alt.Y('popularity', type='quantitative', title='Popularidade da Música'),\n",
    "    color=alt.Color('year_release:N', title='Ano de Lançamento').scale(domain=list_years)\n",
    ").transform_calculate(\n",
    "    x=f'datum[{xcol_param.name}]'\n",
    ").add_params(\n",
    "    xcol_param,\n",
    "    year_release_param\n",
    ").transform_filter(\n",
    "    year_release_param\n",
    ")\n",
    "\n",
    "points "
   ]
  },
  {
   "cell_type": "code",
   "execution_count": null,
   "metadata": {},
   "outputs": [],
   "source": []
  }
 ],
 "metadata": {
  "kernelspec": {
   "display_name": "venv",
   "language": "python",
   "name": "python3"
  },
  "language_info": {
   "codemirror_mode": {
    "name": "ipython",
    "version": 3
   },
   "file_extension": ".py",
   "mimetype": "text/x-python",
   "name": "python",
   "nbconvert_exporter": "python",
   "pygments_lexer": "ipython3",
   "version": "3.10.3"
  }
 },
 "nbformat": 4,
 "nbformat_minor": 2
}
