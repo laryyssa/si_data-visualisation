{
 "cells": [
  {
   "cell_type": "markdown",
   "metadata": {},
   "source": [
    "<h1>Comparando países, quais gêneros mais populares em cada ano em cada país?"
   ]
  },
  {
   "cell_type": "code",
   "execution_count": 1,
   "metadata": {},
   "outputs": [
    {
     "name": "stdout",
     "output_type": "stream",
     "text": [
      "<class 'pandas.core.frame.DataFrame'>\n",
      "Index: 242800 entries, 0 to 273599\n",
      "Data columns (total 12 columns):\n",
      " #   Column              Non-Null Count   Dtype  \n",
      "---  ------              --------------   -----  \n",
      " 0   position            242800 non-null  int64  \n",
      " 1   song_id             242800 non-null  object \n",
      " 2   song_name           242662 non-null  object \n",
      " 3   artist              242664 non-null  object \n",
      " 4   streams             242800 non-null  int64  \n",
      " 5   last_week_position  211814 non-null  float64\n",
      " 6   weeks_on_chart      242800 non-null  int64  \n",
      " 7   peak_position       242800 non-null  int64  \n",
      " 8   position_status     242800 non-null  object \n",
      " 9   year                242800 non-null  int64  \n",
      " 10  week                242800 non-null  int64  \n",
      " 11  country             242800 non-null  object \n",
      "dtypes: float64(1), int64(6), object(5)\n",
      "memory usage: 24.1+ MB\n"
     ]
    }
   ],
   "source": [
    "import pandas as pd\n",
    "\n",
    "total_charts = pd.read_csv('../my_data/charts/total_charts.csv')\n",
    "total_charts = total_charts[total_charts['country'] != 'global']\n",
    "\n",
    "total_charts.info()"
   ]
  },
  {
   "cell_type": "code",
   "execution_count": 2,
   "metadata": {},
   "outputs": [
    {
     "data": {
      "text/plain": [
       "Index(['artist_id', 'name', 'followers', 'popularity', 'genres', 'image_url'], dtype='object')"
      ]
     },
     "execution_count": 2,
     "metadata": {},
     "output_type": "execute_result"
    }
   ],
   "source": [
    "artists = pd.read_csv('../songs_data/artists/spotify_artists_info_complete_reduced_genres.csv', delimiter='\\t')\n",
    "artists.columns"
   ]
  },
  {
   "cell_type": "code",
   "execution_count": 3,
   "metadata": {},
   "outputs": [
    {
     "data": {
      "text/plain": [
       "Index(['position', 'song_id', 'song_name', 'artist', 'streams',\n",
       "       'last_week_position', 'weeks_on_chart', 'peak_position',\n",
       "       'position_status', 'year', 'week', 'country'],\n",
       "      dtype='object')"
      ]
     },
     "execution_count": 3,
     "metadata": {},
     "output_type": "execute_result"
    }
   ],
   "source": [
    "total_charts.columns"
   ]
  },
  {
   "cell_type": "code",
   "execution_count": 4,
   "metadata": {},
   "outputs": [
    {
     "data": {
      "text/plain": [
       "Index(['position', 'song_id', 'song_name', 'artist', 'streams',\n",
       "       'last_week_position', 'weeks_on_chart', 'peak_position',\n",
       "       'position_status', 'year', 'week', 'country', 'artist_id', 'name',\n",
       "       'followers', 'popularity', 'genres', 'image_url'],\n",
       "      dtype='object')"
      ]
     },
     "execution_count": 4,
     "metadata": {},
     "output_type": "execute_result"
    }
   ],
   "source": [
    "total_charts_artists = pd.merge(total_charts, artists, left_on='artist', right_on='name')\n",
    "total_charts_artists.columns"
   ]
  },
  {
   "cell_type": "code",
   "execution_count": 5,
   "metadata": {},
   "outputs": [],
   "source": [
    "colunas_desejadas = ['song_id', 'song_name','genres', 'country', 'streams', 'year']\n",
    "data = total_charts_artists[colunas_desejadas]"
   ]
  },
  {
   "cell_type": "code",
   "execution_count": 6,
   "metadata": {},
   "outputs": [
    {
     "data": {
      "text/html": [
       "<div>\n",
       "<style scoped>\n",
       "    .dataframe tbody tr th:only-of-type {\n",
       "        vertical-align: middle;\n",
       "    }\n",
       "\n",
       "    .dataframe tbody tr th {\n",
       "        vertical-align: top;\n",
       "    }\n",
       "\n",
       "    .dataframe thead th {\n",
       "        text-align: right;\n",
       "    }\n",
       "</style>\n",
       "<table border=\"1\" class=\"dataframe\">\n",
       "  <thead>\n",
       "    <tr style=\"text-align: right;\">\n",
       "      <th></th>\n",
       "      <th>song_id</th>\n",
       "      <th>song_name</th>\n",
       "      <th>genres</th>\n",
       "      <th>country</th>\n",
       "      <th>streams</th>\n",
       "      <th>year</th>\n",
       "    </tr>\n",
       "  </thead>\n",
       "  <tbody>\n",
       "    <tr>\n",
       "      <th>0</th>\n",
       "      <td>5aAx2yezTd8zXrkmtKl66Z</td>\n",
       "      <td>Starboy</td>\n",
       "      <td>r&amp;b</td>\n",
       "      <td>australia</td>\n",
       "      <td>947261</td>\n",
       "      <td>2017</td>\n",
       "    </tr>\n",
       "    <tr>\n",
       "      <th>1</th>\n",
       "      <td>5aAx2yezTd8zXrkmtKl66Z</td>\n",
       "      <td>Starboy</td>\n",
       "      <td>pop</td>\n",
       "      <td>australia</td>\n",
       "      <td>947261</td>\n",
       "      <td>2017</td>\n",
       "    </tr>\n",
       "    <tr>\n",
       "      <th>2</th>\n",
       "      <td>5GXAXm5YOmYT0kL5jHvYBt</td>\n",
       "      <td>I Feel It Coming</td>\n",
       "      <td>r&amp;b</td>\n",
       "      <td>australia</td>\n",
       "      <td>727010</td>\n",
       "      <td>2017</td>\n",
       "    </tr>\n",
       "    <tr>\n",
       "      <th>3</th>\n",
       "      <td>5GXAXm5YOmYT0kL5jHvYBt</td>\n",
       "      <td>I Feel It Coming</td>\n",
       "      <td>pop</td>\n",
       "      <td>australia</td>\n",
       "      <td>727010</td>\n",
       "      <td>2017</td>\n",
       "    </tr>\n",
       "    <tr>\n",
       "      <th>4</th>\n",
       "      <td>4F7A0DXBrmUAkp32uenhZt</td>\n",
       "      <td>Party Monster</td>\n",
       "      <td>r&amp;b</td>\n",
       "      <td>australia</td>\n",
       "      <td>218444</td>\n",
       "      <td>2017</td>\n",
       "    </tr>\n",
       "    <tr>\n",
       "      <th>...</th>\n",
       "      <td>...</td>\n",
       "      <td>...</td>\n",
       "      <td>...</td>\n",
       "      <td>...</td>\n",
       "      <td>...</td>\n",
       "      <td>...</td>\n",
       "    </tr>\n",
       "    <tr>\n",
       "      <th>628236</th>\n",
       "      <td>5FkoSXiJPKTNyYgALRJFhD</td>\n",
       "      <td>ORANGE SODA</td>\n",
       "      <td>trap</td>\n",
       "      <td>united_states</td>\n",
       "      <td>2028636</td>\n",
       "      <td>2019</td>\n",
       "    </tr>\n",
       "    <tr>\n",
       "      <th>628237</th>\n",
       "      <td>5FkoSXiJPKTNyYgALRJFhD</td>\n",
       "      <td>ORANGE SODA</td>\n",
       "      <td>hip hop</td>\n",
       "      <td>united_states</td>\n",
       "      <td>2028636</td>\n",
       "      <td>2019</td>\n",
       "    </tr>\n",
       "    <tr>\n",
       "      <th>628238</th>\n",
       "      <td>4Xbotg4PCLJw9cDx2dtZLK</td>\n",
       "      <td>Some Things Never Change</td>\n",
       "      <td>other</td>\n",
       "      <td>united_states</td>\n",
       "      <td>1589399</td>\n",
       "      <td>2019</td>\n",
       "    </tr>\n",
       "    <tr>\n",
       "      <th>628239</th>\n",
       "      <td>0Q2n5yzl2XRqYbV77tZNYp</td>\n",
       "      <td>GOODMORNINGTOKYO!</td>\n",
       "      <td>rap</td>\n",
       "      <td>united_states</td>\n",
       "      <td>2191423</td>\n",
       "      <td>2019</td>\n",
       "    </tr>\n",
       "    <tr>\n",
       "      <th>628240</th>\n",
       "      <td>0Q2n5yzl2XRqYbV77tZNYp</td>\n",
       "      <td>GOODMORNINGTOKYO!</td>\n",
       "      <td>rap</td>\n",
       "      <td>united_states</td>\n",
       "      <td>2258539</td>\n",
       "      <td>2019</td>\n",
       "    </tr>\n",
       "  </tbody>\n",
       "</table>\n",
       "<p>628241 rows × 6 columns</p>\n",
       "</div>"
      ],
      "text/plain": [
       "                       song_id                 song_name   genres  \\\n",
       "0       5aAx2yezTd8zXrkmtKl66Z                   Starboy      r&b   \n",
       "1       5aAx2yezTd8zXrkmtKl66Z                   Starboy      pop   \n",
       "2       5GXAXm5YOmYT0kL5jHvYBt          I Feel It Coming      r&b   \n",
       "3       5GXAXm5YOmYT0kL5jHvYBt          I Feel It Coming      pop   \n",
       "4       4F7A0DXBrmUAkp32uenhZt             Party Monster      r&b   \n",
       "...                        ...                       ...      ...   \n",
       "628236  5FkoSXiJPKTNyYgALRJFhD               ORANGE SODA     trap   \n",
       "628237  5FkoSXiJPKTNyYgALRJFhD               ORANGE SODA  hip hop   \n",
       "628238  4Xbotg4PCLJw9cDx2dtZLK  Some Things Never Change    other   \n",
       "628239  0Q2n5yzl2XRqYbV77tZNYp         GOODMORNINGTOKYO!      rap   \n",
       "628240  0Q2n5yzl2XRqYbV77tZNYp         GOODMORNINGTOKYO!      rap   \n",
       "\n",
       "              country  streams  year  \n",
       "0           australia   947261  2017  \n",
       "1           australia   947261  2017  \n",
       "2           australia   727010  2017  \n",
       "3           australia   727010  2017  \n",
       "4           australia   218444  2017  \n",
       "...               ...      ...   ...  \n",
       "628236  united_states  2028636  2019  \n",
       "628237  united_states  2028636  2019  \n",
       "628238  united_states  1589399  2019  \n",
       "628239  united_states  2191423  2019  \n",
       "628240  united_states  2258539  2019  \n",
       "\n",
       "[628241 rows x 6 columns]"
      ]
     },
     "execution_count": 6,
     "metadata": {},
     "output_type": "execute_result"
    }
   ],
   "source": [
    "from ast import literal_eval\n",
    "\n",
    "data_analysis = data.copy()\n",
    "data_analysis['genres'] = data_analysis['genres'].apply(literal_eval)\n",
    "data_analysis = data_analysis.explode('genres').reset_index(drop=True)\n",
    "data_analysis\n",
    "# x = data['genres'][0]\n",
    "# print(type(x))"
   ]
  },
  {
   "cell_type": "code",
   "execution_count": 7,
   "metadata": {},
   "outputs": [],
   "source": [
    "final_data = data_analysis.copy()\n",
    "final_data = final_data.groupby(['genres', 'year', 'country']).sum().reset_index()\n",
    "# final_data.to_csv('q4_data.csv')"
   ]
  },
  {
   "cell_type": "code",
   "execution_count": 8,
   "metadata": {},
   "outputs": [
    {
     "ename": "AttributeError",
     "evalue": "'numpy.ndarray' object has no attribute 'list'",
     "output_type": "error",
     "traceback": [
      "\u001b[1;31m---------------------------------------------------------------------------\u001b[0m",
      "\u001b[1;31mAttributeError\u001b[0m                            Traceback (most recent call last)",
      "\u001b[1;32mc:\\Users\\larys\\OneDrive\\Documentos\\Sistemas de Informação\\2023.2\\Visualização de Dados\\Trabalhos\\Trabalho 02\\analysis\\question4.ipynb Cell 9\u001b[0m line \u001b[0;36m3\n\u001b[0;32m      <a href='vscode-notebook-cell:/c%3A/Users/larys/OneDrive/Documentos/Sistemas%20de%20Informa%C3%A7%C3%A3o/2023.2/Visualiza%C3%A7%C3%A3o%20de%20Dados/Trabalhos/Trabalho%2002/analysis/question4.ipynb#X11sZmlsZQ%3D%3D?line=0'>1</a>\u001b[0m \u001b[39mimport\u001b[39;00m \u001b[39maltair\u001b[39;00m \u001b[39mas\u001b[39;00m \u001b[39malt\u001b[39;00m\n\u001b[1;32m----> <a href='vscode-notebook-cell:/c%3A/Users/larys/OneDrive/Documentos/Sistemas%20de%20Informa%C3%A7%C3%A3o/2023.2/Visualiza%C3%A7%C3%A3o%20de%20Dados/Trabalhos/Trabalho%2002/analysis/question4.ipynb#X11sZmlsZQ%3D%3D?line=2'>3</a>\u001b[0m list_genres \u001b[39m=\u001b[39m final_data[\u001b[39m'\u001b[39;49m\u001b[39mgenres\u001b[39;49m\u001b[39m'\u001b[39;49m]\u001b[39m.\u001b[39;49munique()\u001b[39m.\u001b[39;49mlist()\n\u001b[0;32m      <a href='vscode-notebook-cell:/c%3A/Users/larys/OneDrive/Documentos/Sistemas%20de%20Informa%C3%A7%C3%A3o/2023.2/Visualiza%C3%A7%C3%A3o%20de%20Dados/Trabalhos/Trabalho%2002/analysis/question4.ipynb#X11sZmlsZQ%3D%3D?line=3'>4</a>\u001b[0m genres_dropdown \u001b[39m=\u001b[39m alt\u001b[39m.\u001b[39mbinding_select(\n\u001b[0;32m      <a href='vscode-notebook-cell:/c%3A/Users/larys/OneDrive/Documentos/Sistemas%20de%20Informa%C3%A7%C3%A3o/2023.2/Visualiza%C3%A7%C3%A3o%20de%20Dados/Trabalhos/Trabalho%2002/analysis/question4.ipynb#X11sZmlsZQ%3D%3D?line=4'>5</a>\u001b[0m     options\u001b[39m=\u001b[39mlist_genres, \n\u001b[0;32m      <a href='vscode-notebook-cell:/c%3A/Users/larys/OneDrive/Documentos/Sistemas%20de%20Informa%C3%A7%C3%A3o/2023.2/Visualiza%C3%A7%C3%A3o%20de%20Dados/Trabalhos/Trabalho%2002/analysis/question4.ipynb#X11sZmlsZQ%3D%3D?line=5'>6</a>\u001b[0m     name\u001b[39m=\u001b[39m\u001b[39m'\u001b[39m\u001b[39mGênero Musical: \u001b[39m\u001b[39m'\u001b[39m\n\u001b[0;32m      <a href='vscode-notebook-cell:/c%3A/Users/larys/OneDrive/Documentos/Sistemas%20de%20Informa%C3%A7%C3%A3o/2023.2/Visualiza%C3%A7%C3%A3o%20de%20Dados/Trabalhos/Trabalho%2002/analysis/question4.ipynb#X11sZmlsZQ%3D%3D?line=6'>7</a>\u001b[0m )\n\u001b[0;32m      <a href='vscode-notebook-cell:/c%3A/Users/larys/OneDrive/Documentos/Sistemas%20de%20Informa%C3%A7%C3%A3o/2023.2/Visualiza%C3%A7%C3%A3o%20de%20Dados/Trabalhos/Trabalho%2002/analysis/question4.ipynb#X11sZmlsZQ%3D%3D?line=7'>8</a>\u001b[0m x_param \u001b[39m=\u001b[39m alt\u001b[39m.\u001b[39mselection_single(\n\u001b[0;32m      <a href='vscode-notebook-cell:/c%3A/Users/larys/OneDrive/Documentos/Sistemas%20de%20Informa%C3%A7%C3%A3o/2023.2/Visualiza%C3%A7%C3%A3o%20de%20Dados/Trabalhos/Trabalho%2002/analysis/question4.ipynb#X11sZmlsZQ%3D%3D?line=8'>9</a>\u001b[0m     fields\u001b[39m=\u001b[39m[\u001b[39m'\u001b[39m\u001b[39minterval\u001b[39m\u001b[39m'\u001b[39m], \n\u001b[0;32m     <a href='vscode-notebook-cell:/c%3A/Users/larys/OneDrive/Documentos/Sistemas%20de%20Informa%C3%A7%C3%A3o/2023.2/Visualiza%C3%A7%C3%A3o%20de%20Dados/Trabalhos/Trabalho%2002/analysis/question4.ipynb#X11sZmlsZQ%3D%3D?line=9'>10</a>\u001b[0m     bind\u001b[39m=\u001b[39minput_dropdown\n\u001b[0;32m     <a href='vscode-notebook-cell:/c%3A/Users/larys/OneDrive/Documentos/Sistemas%20de%20Informa%C3%A7%C3%A3o/2023.2/Visualiza%C3%A7%C3%A3o%20de%20Dados/Trabalhos/Trabalho%2002/analysis/question4.ipynb#X11sZmlsZQ%3D%3D?line=10'>11</a>\u001b[0m )\n",
      "\u001b[1;31mAttributeError\u001b[0m: 'numpy.ndarray' object has no attribute 'list'"
     ]
    }
   ],
   "source": [
    "import altair as alt\n",
    "\n",
    "list_genres = final_data['genres'].unique().list()\n",
    "genres_dropdown = alt.binding_select(\n",
    "    options=list_genres, \n",
    "    name='Gênero Musical: '\n",
    ")\n",
    "x_param = alt.selection_single(\n",
    "    fields=['interval'], \n",
    "    bind=input_dropdown\n",
    ")\n",
    "\n",
    "\n",
    "grafico = alt.Chart(final_data).mark_bar().encode(\n",
    "    x=alt.X('X', type='nominal', title='Gênero Musical'),\n",
    "    Y=alt.Y('streams', type='quantitative'),\n",
    ").transform_calculate(\n",
    "    x=f'datum[{x_param.name}]'\n",
    ")\n",
    "\n",
    "# add a layer to group bars with respect to countries\n",
    "alt.layer(bars).facet(\n",
    "    column='country'\n",
    ")"
   ]
  }
 ],
 "metadata": {
  "kernelspec": {
   "display_name": "venv",
   "language": "python",
   "name": "python3"
  },
  "language_info": {
   "codemirror_mode": {
    "name": "ipython",
    "version": 3
   },
   "file_extension": ".py",
   "mimetype": "text/x-python",
   "name": "python",
   "nbconvert_exporter": "python",
   "pygments_lexer": "ipython3",
   "version": "3.10.3"
  }
 },
 "nbformat": 4,
 "nbformat_minor": 2
}
