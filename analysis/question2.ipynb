{
 "cells": [
  {
   "cell_type": "code",
   "execution_count": 1,
   "metadata": {},
   "outputs": [],
   "source": [
    "import pandas as pd\n",
    "import altair as alt"
   ]
  },
  {
   "cell_type": "code",
   "execution_count": 2,
   "metadata": {},
   "outputs": [],
   "source": [
    "from datetime import datetime, timedelta\n",
    " \n",
    "def descobre_mes(ano, num_semana):    \n",
    "    date = str(ano) + '-W' + str(num_semana)\n",
    "    res = datetime.strptime(date + '-1', \"%Y-W%W-%w\")\n",
    "    return res.strftime(\"%B\")"
   ]
  },
  {
   "cell_type": "code",
   "execution_count": 43,
   "metadata": {},
   "outputs": [],
   "source": [
    "def extrair_elementos(lista_str):\n",
    "    try:\n",
    "        lista = ast.literal_eval(lista_str)\n",
    "        return ', '.join(lista)\n",
    "    except (SyntaxError, ValueError):\n",
    "        return None"
   ]
  },
  {
   "cell_type": "code",
   "execution_count": 44,
   "metadata": {},
   "outputs": [],
   "source": [
    "def remover_duplicatas(lista_str):\n",
    "    try:\n",
    "        lista = list(dict.fromkeys(lista_str))\n",
    "        return lista\n",
    "    except (SyntaxError, ValueError):\n",
    "        return None"
   ]
  },
  {
   "cell_type": "code",
   "execution_count": 18,
   "metadata": {},
   "outputs": [
    {
     "name": "stdout",
     "output_type": "stream",
     "text": [
      "0                            6M25WWmNO7wK1DnKmd3z6R\n",
      "1    3dKjmeRZcSUw617CoMzEA0, 2jku7tDXc6XoB6MO2hFuqg\n",
      "2                            74XFHRwlV6OrjEM0A2NCMF\n",
      "3                            4Kxlr1PRlDKEB0ekOCyHgX\n",
      "4                            31lnFZEM6ysvjOx59VyxRE\n",
      "Name: artist_id, dtype: object\n",
      "0    1WgXqy2Dd70QQOU7Ay074N\n",
      "1    2dXKh2aHr7RS2RVPlWJoUS\n",
      "2    293zczrfYafIItmnmM3coR\n",
      "3    4DqRDyrUuJO8CuxfgVCU3m\n",
      "4    1U5zgr455OGyIkLNXvDdrf\n",
      "Name: artist_id, dtype: object\n",
      "<class 'pandas.core.frame.DataFrame'>\n",
      "RangeIndex: 158596 entries, 0 to 158595\n",
      "Data columns (total 40 columns):\n",
      " #   Column                 Non-Null Count   Dtype  \n",
      "---  ------                 --------------   -----  \n",
      " 0   position               158596 non-null  int64  \n",
      " 1   song_id                158596 non-null  object \n",
      " 2   song_name_x            158557 non-null  object \n",
      " 3   artist                 158559 non-null  object \n",
      " 4   streams                158596 non-null  int64  \n",
      " 5   last_week_position     137014 non-null  float64\n",
      " 6   weeks_on_chart         158596 non-null  int64  \n",
      " 7   peak_position          158596 non-null  int64  \n",
      " 8   position_status        158596 non-null  object \n",
      " 9   year                   158596 non-null  int64  \n",
      " 10  week                   158596 non-null  int64  \n",
      " 11  country                158596 non-null  object \n",
      " 12  song_name_y            158557 non-null  object \n",
      " 13  artist_id              158596 non-null  object \n",
      " 14  artist_name            158596 non-null  object \n",
      " 15  popularity_x           158596 non-null  int64  \n",
      " 16  explicit               158596 non-null  bool   \n",
      " 17  song_type              158596 non-null  object \n",
      " 18  track_number           158596 non-null  int64  \n",
      " 19  num_artists            158596 non-null  int64  \n",
      " 20  num_available_markets  158596 non-null  int64  \n",
      " 21  release_date           158596 non-null  object \n",
      " 22  duration_ms            158596 non-null  int64  \n",
      " 23  key                    158596 non-null  int64  \n",
      " 24  mode                   158596 non-null  int64  \n",
      " 25  time_signature         158596 non-null  int64  \n",
      " 26  acousticness           158596 non-null  float64\n",
      " 27  danceability           158596 non-null  float64\n",
      " 28  energy                 158596 non-null  float64\n",
      " 29  instrumentalness       158596 non-null  float64\n",
      " 30  liveness               158596 non-null  float64\n",
      " 31  loudness               158596 non-null  float64\n",
      " 32  speechiness            158596 non-null  float64\n",
      " 33  valence                158596 non-null  float64\n",
      " 34  tempo                  158596 non-null  float64\n",
      " 35  name                   158596 non-null  object \n",
      " 36  followers              158596 non-null  int64  \n",
      " 37  popularity_y           158596 non-null  int64  \n",
      " 38  genres                 158596 non-null  object \n",
      " 39  image_url              158428 non-null  object \n",
      "dtypes: bool(1), float64(10), int64(16), object(13)\n",
      "memory usage: 47.3+ MB\n",
      "None\n"
     ]
    }
   ],
   "source": [
    "import ast\n",
    "\n",
    "hit_songs = pd.read_csv('../songs_data/hit_songs/spotify_hits_dataset_complete.csv', delimiter='\\t')\n",
    "hit_songs = hit_songs.explode(['artist_id','artist_name']).reset_index(drop=True)\n",
    "hit_songs['artist_id'] = hit_songs['artist_id'].apply(extrair_elementos)\n",
    "\n",
    "artists = pd.read_csv('../songs_data/artists/spotify_artists_info_complete_reduced_genres.csv', delimiter='\\t')\n",
    "total_charts = pd.read_csv('../my_data/charts/total_charts.csv')\n",
    "\n",
    "songs_and_artists = pd.merge(hit_songs, artists, on='artist_id')\n",
    "charts = pd.merge(total_charts, songs_and_artists, on='song_id')\n"
   ]
  },
  {
   "cell_type": "code",
   "execution_count": 19,
   "metadata": {},
   "outputs": [],
   "source": [
    "# ajustando japao\n",
    "charts.loc[(charts['country'] == 'japan') & (charts['year'] == 2017), 'week'] += 34"
   ]
  },
  {
   "cell_type": "code",
   "execution_count": 20,
   "metadata": {},
   "outputs": [
    {
     "data": {
      "text/plain": [
       "count    2453.000000\n",
       "mean       43.642886\n",
       "std         5.183625\n",
       "min        35.000000\n",
       "25%        39.000000\n",
       "50%        44.000000\n",
       "75%        48.000000\n",
       "max        52.000000\n",
       "Name: week, dtype: float64"
      ]
     },
     "execution_count": 20,
     "metadata": {},
     "output_type": "execute_result"
    }
   ],
   "source": [
    "charts[(charts['country'] == 'japan') & (charts['year']==2017)]['week'].describe()"
   ]
  },
  {
   "cell_type": "code",
   "execution_count": 21,
   "metadata": {},
   "outputs": [],
   "source": [
    "charts['month'] = charts.apply(lambda row: descobre_mes(row['year'], row['week']), axis=1)"
   ]
  },
  {
   "cell_type": "code",
   "execution_count": 24,
   "metadata": {},
   "outputs": [
    {
     "data": {
      "text/plain": [
       "Index(['position', 'song_id', 'song_name_x', 'artist', 'streams',\n",
       "       'last_week_position', 'weeks_on_chart', 'peak_position',\n",
       "       'position_status', 'year', 'week', 'country', 'song_name_y',\n",
       "       'artist_id', 'artist_name', 'popularity_x', 'explicit', 'song_type',\n",
       "       'track_number', 'num_artists', 'num_available_markets', 'release_date',\n",
       "       'duration_ms', 'key', 'mode', 'time_signature', 'acousticness',\n",
       "       'danceability', 'energy', 'instrumentalness', 'liveness', 'loudness',\n",
       "       'speechiness', 'valence', 'tempo', 'name', 'followers', 'popularity_y',\n",
       "       'genres', 'image_url', 'month'],\n",
       "      dtype='object')"
      ]
     },
     "execution_count": 24,
     "metadata": {},
     "output_type": "execute_result"
    }
   ],
   "source": [
    "charts.columns"
   ]
  },
  {
   "cell_type": "code",
   "execution_count": 26,
   "metadata": {},
   "outputs": [],
   "source": [
    "colunas_de_interesse = ['artist_id', 'artist_name', 'year', 'month', 'streams', 'song_name_x', 'genres', 'country', 'image_url']\n",
    "data = charts[colunas_de_interesse]"
   ]
  },
  {
   "cell_type": "code",
   "execution_count": 47,
   "metadata": {},
   "outputs": [
    {
     "data": {
      "text/html": [
       "<div>\n",
       "<style scoped>\n",
       "    .dataframe tbody tr th:only-of-type {\n",
       "        vertical-align: middle;\n",
       "    }\n",
       "\n",
       "    .dataframe tbody tr th {\n",
       "        vertical-align: top;\n",
       "    }\n",
       "\n",
       "    .dataframe thead th {\n",
       "        text-align: right;\n",
       "    }\n",
       "</style>\n",
       "<table border=\"1\" class=\"dataframe\">\n",
       "  <thead>\n",
       "    <tr style=\"text-align: right;\">\n",
       "      <th></th>\n",
       "      <th>artist_id</th>\n",
       "      <th>year</th>\n",
       "      <th>month</th>\n",
       "      <th>country</th>\n",
       "      <th>artist_name</th>\n",
       "      <th>streams</th>\n",
       "      <th>song_name_x</th>\n",
       "      <th>genres</th>\n",
       "      <th>image_url</th>\n",
       "    </tr>\n",
       "  </thead>\n",
       "  <tbody>\n",
       "    <tr>\n",
       "      <th>0</th>\n",
       "      <td>00FQb4jTyendYWaN8pK0wa</td>\n",
       "      <td>2017</td>\n",
       "      <td>April</td>\n",
       "      <td>united_kingdom</td>\n",
       "      <td>Lana Del Rey</td>\n",
       "      <td>1147562</td>\n",
       "      <td>[Love]</td>\n",
       "      <td>[['pop']]</td>\n",
       "      <td>https://i.scdn.co/image/6e8dc460cfb6b89d797030...</td>\n",
       "    </tr>\n",
       "    <tr>\n",
       "      <th>1</th>\n",
       "      <td>00FQb4jTyendYWaN8pK0wa</td>\n",
       "      <td>2017</td>\n",
       "      <td>February</td>\n",
       "      <td>australia</td>\n",
       "      <td>Lana Del Rey</td>\n",
       "      <td>356843</td>\n",
       "      <td>[Love]</td>\n",
       "      <td>[['pop']]</td>\n",
       "      <td>https://i.scdn.co/image/6e8dc460cfb6b89d797030...</td>\n",
       "    </tr>\n",
       "    <tr>\n",
       "      <th>2</th>\n",
       "      <td>00FQb4jTyendYWaN8pK0wa</td>\n",
       "      <td>2017</td>\n",
       "      <td>February</td>\n",
       "      <td>brazil</td>\n",
       "      <td>Lana Del Rey</td>\n",
       "      <td>1108298</td>\n",
       "      <td>[Love]</td>\n",
       "      <td>[['pop']]</td>\n",
       "      <td>https://i.scdn.co/image/6e8dc460cfb6b89d797030...</td>\n",
       "    </tr>\n",
       "    <tr>\n",
       "      <th>3</th>\n",
       "      <td>00FQb4jTyendYWaN8pK0wa</td>\n",
       "      <td>2017</td>\n",
       "      <td>February</td>\n",
       "      <td>canada</td>\n",
       "      <td>Lana Del Rey</td>\n",
       "      <td>546300</td>\n",
       "      <td>[Love]</td>\n",
       "      <td>[['pop']]</td>\n",
       "      <td>https://i.scdn.co/image/6e8dc460cfb6b89d797030...</td>\n",
       "    </tr>\n",
       "    <tr>\n",
       "      <th>4</th>\n",
       "      <td>00FQb4jTyendYWaN8pK0wa</td>\n",
       "      <td>2017</td>\n",
       "      <td>February</td>\n",
       "      <td>france</td>\n",
       "      <td>Lana Del Rey</td>\n",
       "      <td>160031</td>\n",
       "      <td>[Love]</td>\n",
       "      <td>[['pop']]</td>\n",
       "      <td>https://i.scdn.co/image/6e8dc460cfb6b89d797030...</td>\n",
       "    </tr>\n",
       "  </tbody>\n",
       "</table>\n",
       "</div>"
      ],
      "text/plain": [
       "                artist_id  year     month         country   artist_name  \\\n",
       "0  00FQb4jTyendYWaN8pK0wa  2017     April  united_kingdom  Lana Del Rey   \n",
       "1  00FQb4jTyendYWaN8pK0wa  2017  February       australia  Lana Del Rey   \n",
       "2  00FQb4jTyendYWaN8pK0wa  2017  February          brazil  Lana Del Rey   \n",
       "3  00FQb4jTyendYWaN8pK0wa  2017  February          canada  Lana Del Rey   \n",
       "4  00FQb4jTyendYWaN8pK0wa  2017  February          france  Lana Del Rey   \n",
       "\n",
       "   streams song_name_x     genres  \\\n",
       "0  1147562      [Love]  [['pop']]   \n",
       "1   356843      [Love]  [['pop']]   \n",
       "2  1108298      [Love]  [['pop']]   \n",
       "3   546300      [Love]  [['pop']]   \n",
       "4   160031      [Love]  [['pop']]   \n",
       "\n",
       "                                           image_url  \n",
       "0  https://i.scdn.co/image/6e8dc460cfb6b89d797030...  \n",
       "1  https://i.scdn.co/image/6e8dc460cfb6b89d797030...  \n",
       "2  https://i.scdn.co/image/6e8dc460cfb6b89d797030...  \n",
       "3  https://i.scdn.co/image/6e8dc460cfb6b89d797030...  \n",
       "4  https://i.scdn.co/image/6e8dc460cfb6b89d797030...  "
      ]
     },
     "execution_count": 47,
     "metadata": {},
     "output_type": "execute_result"
    }
   ],
   "source": [
    "agg_func = {\n",
    "    'artist_name': 'first', \n",
    "    'streams': 'sum', \n",
    "    'song_name_x': list, \n",
    "    'genres': list,  \n",
    "    'image_url': 'first'\n",
    "}\n",
    "data_analysis = data.groupby(['artist_id', 'year', 'month', 'country']).agg(agg_func).reset_index()\n",
    "data_analysis['genres'] = data_analysis['genres'].apply(lambda x: list(pd.Series(x).explode().unique()))\n",
    "data_analysis['artist_name'] = data_analysis['artist_name'].apply(extrair_elementos)\n",
    "data_analysis['song_name_x'] = data_analysis['song_name_x'].apply(remover_duplicatas)\n",
    "data_analysis.head()"
   ]
  },
  {
   "cell_type": "markdown",
   "metadata": {},
   "source": [
    "<h1>Gráfico</h1>"
   ]
  },
  {
   "cell_type": "code",
   "execution_count": null,
   "metadata": {},
   "outputs": [],
   "source": [
    "dropdown_year = alt.binding_select(\n",
    "    options=data_reduced['year'].unique().tolist(),\n",
    "    name='Escolha o ano '\n",
    ")\n",
    "year_param = alt.param(\n",
    "    value=2017,\n",
    "    bind=dropdown_year\n",
    ")\n",
    "\n",
    "dropdown_country = alt.binding_select(\n",
    "    options=['australia', 'brazil', 'canada', 'france', 'germany', 'global', 'japan', 'united_kingdom', 'united_states'],\n",
    "    name='Escolha um país ou visão global '\n",
    ")\n",
    "ycol_param = alt.param(\n",
    "    value='global',\n",
    "    bind=dropdown_country\n",
    ")\n",
    "\n",
    "\n",
    "alt.Chart(data_analysis).mark_image(\n",
    "    width=50,\n",
    "    height=50\n",
    ").encode(\n",
    "    x='x',\n",
    "    y='y',\n",
    "    url='img'\n",
    ")"
   ]
  }
 ],
 "metadata": {
  "kernelspec": {
   "display_name": "venv",
   "language": "python",
   "name": "python3"
  },
  "language_info": {
   "codemirror_mode": {
    "name": "ipython",
    "version": 3
   },
   "file_extension": ".py",
   "mimetype": "text/x-python",
   "name": "python",
   "nbconvert_exporter": "python",
   "pygments_lexer": "ipython3",
   "version": "3.10.3"
  }
 },
 "nbformat": 4,
 "nbformat_minor": 2
}
