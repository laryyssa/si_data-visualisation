{
 "cells": [
  {
   "cell_type": "code",
   "execution_count": 1,
   "metadata": {},
   "outputs": [],
   "source": [
    "import pandas as pd"
   ]
  },
  {
   "cell_type": "code",
   "execution_count": 36,
   "metadata": {},
   "outputs": [
    {
     "data": {
      "text/plain": [
       "'December'"
      ]
     },
     "execution_count": 36,
     "metadata": {},
     "output_type": "execute_result"
    }
   ],
   "source": [
    "# descobri o mes pelo numero da semana\n",
    "\n",
    "from datetime import datetime, timedelta\n",
    " \n",
    "def descobre_mes(ano, num_semana):    \n",
    "    date = str(ano) + '-W' + str(num_semana)\n",
    "    res = datetime.strptime(date + '-1', \"%Y-W%W-%w\")\n",
    "    return res.strftime(\"%B\")"
   ]
  },
  {
   "cell_type": "code",
   "execution_count": 3,
   "metadata": {},
   "outputs": [],
   "source": [
    "# criação dos charts\n",
    "\n",
    "import glob\n",
    "\n",
    "df_charts = pd.DataFrame()\n",
    "\n",
    "list_years = [2017, 2018, 2019]\n",
    "for y in list_years:\n",
    "    year = y\n",
    "    arquivos = glob.glob('../songs_data/charts/us/' + str(year) +'/*.csv')\n",
    "\n",
    "    week=0\n",
    "    for a in arquivos:\n",
    "        week += 1\n",
    "        df = pd.read_csv(a, delimiter='\\t')\n",
    "        df['year'] = year\n",
    "        df['week'] = week\n",
    "        df_charts = pd.concat([df_charts, df], ignore_index=True)\n",
    "\n",
    "# df_charts.to_csv('my_data/united_states_charts.csv', index=False)"
   ]
  },
  {
   "cell_type": "markdown",
   "metadata": {},
   "source": [
    "unindo songs + charts br"
   ]
  },
  {
   "cell_type": "code",
   "execution_count": 91,
   "metadata": {},
   "outputs": [
    {
     "name": "stdout",
     "output_type": "stream",
     "text": [
      "31200\n",
      "13880\n",
      "31200\n",
      "   year  week    month                 song_id song_name_x song_name_y   \n",
      "0  2017     1  January  0EPxmvsG1BY5td4aTOkWBF    Deu Onda    Deu Onda  \\\n",
      "1  2017     2  January  0EPxmvsG1BY5td4aTOkWBF    Deu Onda    Deu Onda   \n",
      "2  2017     3  January  0EPxmvsG1BY5td4aTOkWBF    Deu Onda    Deu Onda   \n",
      "3  2017     4  January  0EPxmvsG1BY5td4aTOkWBF    Deu Onda    Deu Onda   \n",
      "4  2017     5  January  0EPxmvsG1BY5td4aTOkWBF    Deu Onda    Deu Onda   \n",
      "\n",
      "                  artist_id artist_name  energy  danceability  \n",
      "0  [3Nipsl6GVwwGyeAk0J29C6]    [MC G15]   0.604         0.931  \n",
      "1  [3Nipsl6GVwwGyeAk0J29C6]    [MC G15]   0.604         0.931  \n",
      "2  [3Nipsl6GVwwGyeAk0J29C6]    [MC G15]   0.604         0.931  \n",
      "3  [3Nipsl6GVwwGyeAk0J29C6]    [MC G15]   0.604         0.931  \n",
      "4  [3Nipsl6GVwwGyeAk0J29C6]    [MC G15]   0.604         0.931  \n"
     ]
    }
   ],
   "source": [
    "import ast\n",
    "\n",
    "charts_brasil = pd.read_csv('../my_data/charts/brasil_charts.csv')\n",
    "\n",
    "hits_songs = pd.read_csv('../songs_data/hit_songs/spotify_hits_dataset_complete.csv', delimiter='\\t')\n",
    "# hits_songs['artist_name'] = hits_songs['artist_name'].apply(eval)\n",
    "\n",
    "hits_songs = hits_songs.explode(['artist_id','artist_name']).reset_index(drop=True)\n",
    "hits_songs['artist_id'] = hits_songs['artist_id'].apply(ast.literal_eval)\n",
    "hits_songs['artist_name'] = hits_songs['artist_name'].apply(ast.literal_eval)\n",
    "\n",
    "print(len(charts_brasil))\n",
    "print(len(hits_songs))\n",
    "\n",
    "charts_brasil_songs = pd.merge(charts_brasil, hits_songs, on='song_id')\n",
    "charts_brasil_songs['month'] = charts_brasil_songs.apply(lambda row: descobre_mes(row['year'], row['week']), axis=1)\n",
    "\n",
    "print(len(charts_brasil_songs))\n",
    "\n",
    "# Index(['position', 'song_id', 'song_name_x', 'artist', 'streams',\n",
    "#        'last_week_position', 'weeks_on_chart', 'peak_position',}\n",
    "#        'position_status', 'year', 'week', 'song_name_y', 'artist_id',\n",
    "#        'artist_name', 'popularity', 'explicit', 'song_type', 'track_number',\n",
    "#        'num_artists', 'num_available_markets', 'release_date', 'duration_ms',\n",
    "#        'key', 'mode', 'time_signature', 'acousticness', 'danceability',\n",
    "#        'energy', 'instrumentalness', 'liveness', 'loudness', 'speechiness',\n",
    "#        'valence', 'tempo'],\n",
    "#       dtype='object')\n",
    "\n",
    "colunas = ['year', 'week','month', 'song_id', 'song_name_x', 'song_name_y','artist_id', 'artist_name', 'energy', 'danceability']\n",
    "\n",
    "print(charts_brasil_songs[colunas].head())\n",
    "\n"
   ]
  },
  {
   "cell_type": "code",
   "execution_count": 92,
   "metadata": {},
   "outputs": [
    {
     "name": "stdout",
     "output_type": "stream",
     "text": [
      "   position                 song_id song_name_x  artist  streams   \n",
      "0         1  0EPxmvsG1BY5td4aTOkWBF    Deu Onda  MC G15  4792078  \\\n",
      "1         1  0EPxmvsG1BY5td4aTOkWBF    Deu Onda  MC G15  3477856   \n",
      "2         1  0EPxmvsG1BY5td4aTOkWBF    Deu Onda  MC G15  2649642   \n",
      "3         2  0EPxmvsG1BY5td4aTOkWBF    Deu Onda  MC G15  2105580   \n",
      "4         4  0EPxmvsG1BY5td4aTOkWBF    Deu Onda  MC G15  1931738   \n",
      "\n",
      "   last_week_position  weeks_on_chart  peak_position position_status  year   \n",
      "0                 NaN               1              1             new  2017  \\\n",
      "1                 1.0               2              1               0  2017   \n",
      "2                 1.0               3              1               0  2017   \n",
      "3                 1.0               4              1              -1  2017   \n",
      "4                 2.0               5              1              -2  2017   \n",
      "\n",
      "   ...  loudness speechiness valence    tempo    month    name followers   \n",
      "0  ...     -1.41      0.0573   0.864  129.926  January  MC G15   3341277  \\\n",
      "1  ...     -1.41      0.0573   0.864  129.926  January  MC G15   3341277   \n",
      "2  ...     -1.41      0.0573   0.864  129.926  January  MC G15   3341277   \n",
      "3  ...     -1.41      0.0573   0.864  129.926  January  MC G15   3341277   \n",
      "4  ...     -1.41      0.0573   0.864  129.926  January  MC G15   3341277   \n",
      "\n",
      "   popularity_y                            genres   \n",
      "0            64  ['brega funk', 'brazilian funk']  \\\n",
      "1            64  ['brega funk', 'brazilian funk']   \n",
      "2            64  ['brega funk', 'brazilian funk']   \n",
      "3            64  ['brega funk', 'brazilian funk']   \n",
      "4            64  ['brega funk', 'brazilian funk']   \n",
      "\n",
      "                                           image_url  \n",
      "0  https://i.scdn.co/image/6e325318cdb5a6243a5db9...  \n",
      "1  https://i.scdn.co/image/6e325318cdb5a6243a5db9...  \n",
      "2  https://i.scdn.co/image/6e325318cdb5a6243a5db9...  \n",
      "3  https://i.scdn.co/image/6e325318cdb5a6243a5db9...  \n",
      "4  https://i.scdn.co/image/6e325318cdb5a6243a5db9...  \n",
      "\n",
      "[5 rows x 40 columns]\n"
     ]
    }
   ],
   "source": [
    "artists = pd.read_csv('../songs_data/artists/spotify_artists_info_complete_reduced_genres.csv', delimiter='\\t')\n",
    "# print(artists.head())\n",
    "\n",
    "df_resultante = charts_brasil_songs.explode('artist_id').astype({'artist_id': 'str'}).merge(artists, on='artist_id')\n",
    "print(df_resultante.head())"
   ]
  },
  {
   "cell_type": "code",
   "execution_count": null,
   "metadata": {},
   "outputs": [],
   "source": []
  }
 ],
 "metadata": {
  "kernelspec": {
   "display_name": "Python 3",
   "language": "python",
   "name": "python3"
  },
  "language_info": {
   "codemirror_mode": {
    "name": "ipython",
    "version": 3
   },
   "file_extension": ".py",
   "mimetype": "text/x-python",
   "name": "python",
   "nbconvert_exporter": "python",
   "pygments_lexer": "ipython3",
   "version": "3.10.3"
  }
 },
 "nbformat": 4,
 "nbformat_minor": 2
}
