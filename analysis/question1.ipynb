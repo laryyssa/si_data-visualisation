{
 "cells": [
  {
   "cell_type": "code",
   "execution_count": 1,
   "metadata": {},
   "outputs": [],
   "source": [
    "import pandas as pd"
   ]
  },
  {
   "cell_type": "code",
   "execution_count": 36,
   "metadata": {},
   "outputs": [
    {
     "data": {
      "text/plain": [
       "'December'"
      ]
     },
     "execution_count": 36,
     "metadata": {},
     "output_type": "execute_result"
    }
   ],
   "source": [
    "# descobri o mes pelo numero da semana\n",
    "\n",
    "from datetime import datetime, timedelta\n",
    " \n",
    "def descobre_mes(ano, num_semana):    \n",
    "    date = str(ano) + '-W' + str(num_semana)\n",
    "    res = datetime.strptime(date + '-1', \"%Y-W%W-%w\")\n",
    "    return res.strftime(\"%B\")"
   ]
  },
  {
   "cell_type": "code",
   "execution_count": 3,
   "metadata": {},
   "outputs": [],
   "source": [
    "# criação dos charts\n",
    "\n",
    "import glob\n",
    "\n",
    "df_charts = pd.DataFrame()\n",
    "\n",
    "list_years = [2017, 2018, 2019]\n",
    "for y in list_years:\n",
    "    year = y\n",
    "    arquivos = glob.glob('../songs_data/charts/us/' + str(year) +'/*.csv')\n",
    "\n",
    "    week=0\n",
    "    for a in arquivos:\n",
    "        week += 1\n",
    "        df = pd.read_csv(a, delimiter='\\t')\n",
    "        df['year'] = year\n",
    "        df['week'] = week\n",
    "        df_charts = pd.concat([df_charts, df], ignore_index=True)\n",
    "\n",
    "# df_charts.to_csv('my_data/united_states_charts.csv', index=False)"
   ]
  },
  {
   "cell_type": "markdown",
   "metadata": {},
   "source": [
    "unindo songs + charts br"
   ]
  },
  {
   "cell_type": "code",
   "execution_count": 42,
   "metadata": {},
   "outputs": [
    {
     "name": "stdout",
     "output_type": "stream",
     "text": [
      "31200\n",
      "20727\n",
      "50909\n"
     ]
    },
    {
     "data": {
      "text/html": [
       "<div>\n",
       "<style scoped>\n",
       "    .dataframe tbody tr th:only-of-type {\n",
       "        vertical-align: middle;\n",
       "    }\n",
       "\n",
       "    .dataframe tbody tr th {\n",
       "        vertical-align: top;\n",
       "    }\n",
       "\n",
       "    .dataframe thead th {\n",
       "        text-align: right;\n",
       "    }\n",
       "</style>\n",
       "<table border=\"1\" class=\"dataframe\">\n",
       "  <thead>\n",
       "    <tr style=\"text-align: right;\">\n",
       "      <th></th>\n",
       "      <th>year</th>\n",
       "      <th>week</th>\n",
       "      <th>month</th>\n",
       "      <th>song_id</th>\n",
       "      <th>song_name_x</th>\n",
       "      <th>song_name_y</th>\n",
       "      <th>artist_name</th>\n",
       "      <th>energy</th>\n",
       "      <th>danceability</th>\n",
       "    </tr>\n",
       "  </thead>\n",
       "  <tbody>\n",
       "    <tr>\n",
       "      <th>0</th>\n",
       "      <td>2017</td>\n",
       "      <td>1</td>\n",
       "      <td>January</td>\n",
       "      <td>0EPxmvsG1BY5td4aTOkWBF</td>\n",
       "      <td>Deu Onda</td>\n",
       "      <td>Deu Onda</td>\n",
       "      <td>MC G15</td>\n",
       "      <td>0.604</td>\n",
       "      <td>0.931</td>\n",
       "    </tr>\n",
       "    <tr>\n",
       "      <th>1</th>\n",
       "      <td>2017</td>\n",
       "      <td>2</td>\n",
       "      <td>January</td>\n",
       "      <td>0EPxmvsG1BY5td4aTOkWBF</td>\n",
       "      <td>Deu Onda</td>\n",
       "      <td>Deu Onda</td>\n",
       "      <td>MC G15</td>\n",
       "      <td>0.604</td>\n",
       "      <td>0.931</td>\n",
       "    </tr>\n",
       "    <tr>\n",
       "      <th>2</th>\n",
       "      <td>2017</td>\n",
       "      <td>3</td>\n",
       "      <td>January</td>\n",
       "      <td>0EPxmvsG1BY5td4aTOkWBF</td>\n",
       "      <td>Deu Onda</td>\n",
       "      <td>Deu Onda</td>\n",
       "      <td>MC G15</td>\n",
       "      <td>0.604</td>\n",
       "      <td>0.931</td>\n",
       "    </tr>\n",
       "    <tr>\n",
       "      <th>3</th>\n",
       "      <td>2017</td>\n",
       "      <td>4</td>\n",
       "      <td>January</td>\n",
       "      <td>0EPxmvsG1BY5td4aTOkWBF</td>\n",
       "      <td>Deu Onda</td>\n",
       "      <td>Deu Onda</td>\n",
       "      <td>MC G15</td>\n",
       "      <td>0.604</td>\n",
       "      <td>0.931</td>\n",
       "    </tr>\n",
       "    <tr>\n",
       "      <th>4</th>\n",
       "      <td>2017</td>\n",
       "      <td>5</td>\n",
       "      <td>January</td>\n",
       "      <td>0EPxmvsG1BY5td4aTOkWBF</td>\n",
       "      <td>Deu Onda</td>\n",
       "      <td>Deu Onda</td>\n",
       "      <td>MC G15</td>\n",
       "      <td>0.604</td>\n",
       "      <td>0.931</td>\n",
       "    </tr>\n",
       "  </tbody>\n",
       "</table>\n",
       "</div>"
      ],
      "text/plain": [
       "   year  week    month                 song_id song_name_x song_name_y   \n",
       "0  2017     1  January  0EPxmvsG1BY5td4aTOkWBF    Deu Onda    Deu Onda  \\\n",
       "1  2017     2  January  0EPxmvsG1BY5td4aTOkWBF    Deu Onda    Deu Onda   \n",
       "2  2017     3  January  0EPxmvsG1BY5td4aTOkWBF    Deu Onda    Deu Onda   \n",
       "3  2017     4  January  0EPxmvsG1BY5td4aTOkWBF    Deu Onda    Deu Onda   \n",
       "4  2017     5  January  0EPxmvsG1BY5td4aTOkWBF    Deu Onda    Deu Onda   \n",
       "\n",
       "  artist_name  energy  danceability  \n",
       "0      MC G15   0.604         0.931  \n",
       "1      MC G15   0.604         0.931  \n",
       "2      MC G15   0.604         0.931  \n",
       "3      MC G15   0.604         0.931  \n",
       "4      MC G15   0.604         0.931  "
      ]
     },
     "execution_count": 42,
     "metadata": {},
     "output_type": "execute_result"
    }
   ],
   "source": [
    "charts_brasil = pd.read_csv('../my_data/charts/brasil_charts.csv')\n",
    "\n",
    "hits_songs = pd.read_csv('../songs_data/hit_songs/spotify_hits_dataset_complete.csv', delimiter='\\t')\n",
    "hits_songs['artist_name'] = hits_songs['artist_name'].apply(eval)\n",
    "hits_songs = hits_songs.explode('artist_name')\n",
    "\n",
    "print(len(charts_brasil))\n",
    "print(len(hits_songs))\n",
    "\n",
    "charts_brasil_songs = pd.merge(charts_brasil, hits_songs, on='song_id')\n",
    "charts_brasil_songs['month'] = charts_brasil_songs.apply(lambda row: descobre_mes(row['year'], row['week']), axis=1)\n",
    "\n",
    "print(len(charts_brasil_songs))\n",
    "\n",
    "# Index(['position', 'song_id', 'song_name_x', 'artist', 'streams',\n",
    "#        'last_week_position', 'weeks_on_chart', 'peak_position',}\n",
    "#        'position_status', 'year', 'week', 'song_name_y', 'artist_id',\n",
    "#        'artist_name', 'popularity', 'explicit', 'song_type', 'track_number',\n",
    "#        'num_artists', 'num_available_markets', 'release_date', 'duration_ms',\n",
    "#        'key', 'mode', 'time_signature', 'acousticness', 'danceability',\n",
    "#        'energy', 'instrumentalness', 'liveness', 'loudness', 'speechiness',\n",
    "#        'valence', 'tempo'],\n",
    "#       dtype='object')\n",
    "\n",
    "colunas = ['year', 'week','month', 'song_id', 'song_name_x', 'song_name_y', 'artist_name', 'energy', 'danceability']\n",
    "\n",
    "charts_brasil_songs[colunas].head()\n",
    "\n"
   ]
  },
  {
   "cell_type": "code",
   "execution_count": 16,
   "metadata": {},
   "outputs": [
    {
     "data": {
      "text/html": [
       "<div>\n",
       "<style scoped>\n",
       "    .dataframe tbody tr th:only-of-type {\n",
       "        vertical-align: middle;\n",
       "    }\n",
       "\n",
       "    .dataframe tbody tr th {\n",
       "        vertical-align: top;\n",
       "    }\n",
       "\n",
       "    .dataframe thead th {\n",
       "        text-align: right;\n",
       "    }\n",
       "</style>\n",
       "<table border=\"1\" class=\"dataframe\">\n",
       "  <thead>\n",
       "    <tr style=\"text-align: right;\">\n",
       "      <th></th>\n",
       "      <th>position</th>\n",
       "      <th>song_id</th>\n",
       "      <th>song_name_x</th>\n",
       "      <th>artist</th>\n",
       "      <th>streams</th>\n",
       "      <th>last_week_position</th>\n",
       "      <th>weeks_on_chart</th>\n",
       "      <th>peak_position</th>\n",
       "      <th>position_status</th>\n",
       "      <th>year</th>\n",
       "      <th>...</th>\n",
       "      <th>liveness</th>\n",
       "      <th>loudness</th>\n",
       "      <th>speechiness</th>\n",
       "      <th>valence</th>\n",
       "      <th>tempo</th>\n",
       "      <th>name</th>\n",
       "      <th>followers</th>\n",
       "      <th>popularity_y</th>\n",
       "      <th>genres</th>\n",
       "      <th>image_url</th>\n",
       "    </tr>\n",
       "  </thead>\n",
       "  <tbody>\n",
       "  </tbody>\n",
       "</table>\n",
       "<p>0 rows × 39 columns</p>\n",
       "</div>"
      ],
      "text/plain": [
       "Empty DataFrame\n",
       "Columns: [position, song_id, song_name_x, artist, streams, last_week_position, weeks_on_chart, peak_position, position_status, year, week, song_name_y, artist_id, artist_name, popularity_x, explicit, song_type, track_number, num_artists, num_available_markets, release_date, duration_ms, key, mode, time_signature, acousticness, danceability, energy, instrumentalness, liveness, loudness, speechiness, valence, tempo, name, followers, popularity_y, genres, image_url]\n",
       "Index: []\n",
       "\n",
       "[0 rows x 39 columns]"
      ]
     },
     "execution_count": 16,
     "metadata": {},
     "output_type": "execute_result"
    }
   ],
   "source": [
    "artists = pd.read_csv('../songs_data/artists/spotify_artists_info_complete_reduced_genres.csv', delimiter='\\t')\n",
    "\n",
    "df_resultante = charts_brasil_songs.explode('artist_id').astype({'artist_id': 'str'}).merge(artists, on='artist_id')\n",
    "df_resultante"
   ]
  },
  {
   "cell_type": "code",
   "execution_count": null,
   "metadata": {},
   "outputs": [],
   "source": []
  }
 ],
 "metadata": {
  "kernelspec": {
   "display_name": "Python 3",
   "language": "python",
   "name": "python3"
  },
  "language_info": {
   "codemirror_mode": {
    "name": "ipython",
    "version": 3
   },
   "file_extension": ".py",
   "mimetype": "text/x-python",
   "name": "python",
   "nbconvert_exporter": "python",
   "pygments_lexer": "ipython3",
   "version": "3.10.3"
  }
 },
 "nbformat": 4,
 "nbformat_minor": 2
}
