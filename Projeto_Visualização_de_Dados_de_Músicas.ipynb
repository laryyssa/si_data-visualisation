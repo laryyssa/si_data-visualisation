{
  "nbformat": 4,
  "nbformat_minor": 0,
  "metadata": {
    "colab": {
      "provenance": [],
      "toc_visible": true,
      "include_colab_link": true
    },
    "kernelspec": {
      "name": "python3",
      "display_name": "Python 3"
    },
    "language_info": {
      "name": "python"
    }
  },
  "cells": [
    {
      "cell_type": "markdown",
      "metadata": {
        "id": "view-in-github",
        "colab_type": "text"
      },
      "source": [
        "<a href=\"https://colab.research.google.com/github/laryyssa/si_data-visualisation/blob/master/Projeto_Visualiza%C3%A7%C3%A3o_de_Dados_de_M%C3%BAsicas.ipynb\" target=\"_parent\"><img src=\"https://colab.research.google.com/assets/colab-badge.svg\" alt=\"Open In Colab\"/></a>"
      ]
    },
    {
      "cell_type": "markdown",
      "source": [
        "**<h1> Trabalho 02 - Visualização de Dados**\n",
        "\n",
        "**Fonte dos Datasets** [aqui](https://zenodo.org/records/4778563)\n",
        "\n",
        "**OBS**\n",
        "\n",
        "Os datasets não estão nesse formato, eles foram tratados e modificados usando a biblioteca Pandas. Para analisar as mudanças e tratamentos feitos, acesse o [repositório no GitHub](https://github.com/laryyssa/si_data-visualisation)\n",
        "\n",
        "\n",
        "----------------------------------------------\n",
        "**Referência**\n",
        "\n",
        "Gabriel P. Oliveira, Mariana O. Silva, Danilo B. Seufitelli, Anisio Lacerda, and Mirella M. Moro. Detecting Collaboration Profiles in Success-based Music Genre Networks. In Proceedings of the 21st International Society for Music Information Retrieval Conference (ISMIR 2020), 2020."
      ],
      "metadata": {
        "id": "644iksocaSwu"
      }
    },
    {
      "cell_type": "markdown",
      "source": [
        "## Instalando Bibliotecas"
      ],
      "metadata": {
        "id": "FJgOwMSCzpdU"
      }
    },
    {
      "cell_type": "code",
      "execution_count": 7,
      "metadata": {
        "id": "tO0VsVdd0E4u",
        "colab": {
          "base_uri": "https://localhost:8080/"
        },
        "outputId": "f7a82b9f-9e4c-43ee-8306-baebc017ce1f"
      },
      "outputs": [
        {
          "output_type": "stream",
          "name": "stdout",
          "text": [
            "Drive already mounted at /content/drive; to attempt to forcibly remount, call drive.mount(\"/content/drive\", force_remount=True).\n"
          ]
        }
      ],
      "source": [
        "import pandas as pd\n",
        "import altair as alt\n",
        "\n",
        "from google.colab import drive\n",
        "drive.mount('/content/drive')"
      ]
    },
    {
      "cell_type": "code",
      "source": [
        "!pip install uvicorn\n",
        "!pip install python-multipart\n",
        "!pip install fastapi\n",
        "!pip install kaleido\n"
      ],
      "metadata": {
        "id": "hWwtmJbZxQyj",
        "colab": {
          "base_uri": "https://localhost:8080/"
        },
        "outputId": "4a821249-4d4a-4ef9-b05a-e5e0a512b112"
      },
      "execution_count": 2,
      "outputs": [
        {
          "output_type": "stream",
          "name": "stdout",
          "text": [
            "Requirement already satisfied: uvicorn in /usr/local/lib/python3.10/dist-packages (0.29.0)\n",
            "Requirement already satisfied: click>=7.0 in /usr/local/lib/python3.10/dist-packages (from uvicorn) (8.1.7)\n",
            "Requirement already satisfied: h11>=0.8 in /usr/local/lib/python3.10/dist-packages (from uvicorn) (0.14.0)\n",
            "Requirement already satisfied: typing-extensions>=4.0 in /usr/local/lib/python3.10/dist-packages (from uvicorn) (4.10.0)\n",
            "Requirement already satisfied: python-multipart in /usr/local/lib/python3.10/dist-packages (0.0.9)\n",
            "Requirement already satisfied: fastapi in /usr/local/lib/python3.10/dist-packages (0.110.1)\n",
            "Requirement already satisfied: pydantic!=1.8,!=1.8.1,!=2.0.0,!=2.0.1,!=2.1.0,<3.0.0,>=1.7.4 in /usr/local/lib/python3.10/dist-packages (from fastapi) (2.6.4)\n",
            "Requirement already satisfied: starlette<0.38.0,>=0.37.2 in /usr/local/lib/python3.10/dist-packages (from fastapi) (0.37.2)\n",
            "Requirement already satisfied: typing-extensions>=4.8.0 in /usr/local/lib/python3.10/dist-packages (from fastapi) (4.10.0)\n",
            "Requirement already satisfied: annotated-types>=0.4.0 in /usr/local/lib/python3.10/dist-packages (from pydantic!=1.8,!=1.8.1,!=2.0.0,!=2.0.1,!=2.1.0,<3.0.0,>=1.7.4->fastapi) (0.6.0)\n",
            "Requirement already satisfied: pydantic-core==2.16.3 in /usr/local/lib/python3.10/dist-packages (from pydantic!=1.8,!=1.8.1,!=2.0.0,!=2.0.1,!=2.1.0,<3.0.0,>=1.7.4->fastapi) (2.16.3)\n",
            "Requirement already satisfied: anyio<5,>=3.4.0 in /usr/local/lib/python3.10/dist-packages (from starlette<0.38.0,>=0.37.2->fastapi) (3.7.1)\n",
            "Requirement already satisfied: idna>=2.8 in /usr/local/lib/python3.10/dist-packages (from anyio<5,>=3.4.0->starlette<0.38.0,>=0.37.2->fastapi) (3.6)\n",
            "Requirement already satisfied: sniffio>=1.1 in /usr/local/lib/python3.10/dist-packages (from anyio<5,>=3.4.0->starlette<0.38.0,>=0.37.2->fastapi) (1.3.1)\n",
            "Requirement already satisfied: exceptiongroup in /usr/local/lib/python3.10/dist-packages (from anyio<5,>=3.4.0->starlette<0.38.0,>=0.37.2->fastapi) (1.2.0)\n",
            "Requirement already satisfied: kaleido in /usr/local/lib/python3.10/dist-packages (0.2.1)\n"
          ]
        }
      ]
    },
    {
      "cell_type": "code",
      "source": [
        "# %cd \"/content/drive/My Drive/Projetos/visualizacao-dados-musicas/data/requirements.txt\"\n",
        "\n",
        "# !pip install -r requirements.txt"
      ],
      "metadata": {
        "id": "R0sU8WuLukHR",
        "colab": {
          "base_uri": "https://localhost:8080/"
        },
        "outputId": "df3e7b11-d14e-4836-e948-8f91c6a89a48"
      },
      "execution_count": 10,
      "outputs": [
        {
          "output_type": "stream",
          "name": "stdout",
          "text": [
            "[Errno 20] Not a directory: '/content/drive/My Drive/Projetos/visualizacao-dados-musicas/data/requirements.txt'\n",
            "/content\n",
            "\u001b[31mERROR: Could not open requirements file: [Errno 2] No such file or directory: 'requirements.txt'\u001b[0m\u001b[31m\n",
            "\u001b[0m"
          ]
        }
      ]
    },
    {
      "cell_type": "markdown",
      "source": [
        "**<h1> Trabalho 02**"
      ],
      "metadata": {
        "id": "n454COVEz25o"
      }
    },
    {
      "cell_type": "markdown",
      "source": [
        "**<h1>Questão 1</h1>**\n",
        "## Qual a média de animação, danceabilidade, energia e streams das músicas tocadas no top 200 do Brasil durante os anos de 2017 a 2019?"
      ],
      "metadata": {
        "id": "epHnPYBZalIZ"
      }
    },
    {
      "cell_type": "code",
      "source": [
        "q1_data = pd.read_csv('/content/drive/My Drive/Projetos/visualizacao-dados-musicas/data/q1_data.csv')\n",
        "q1_data.head()"
      ],
      "metadata": {
        "id": "pqk7yfaw15Eb",
        "colab": {
          "base_uri": "https://localhost:8080/",
          "height": 206
        },
        "outputId": "40a5f7b1-48f8-403e-91e1-3fe459e93bcd"
      },
      "execution_count": 8,
      "outputs": [
        {
          "output_type": "execute_result",
          "data": {
            "text/plain": [
              "   Unnamed: 0   month  year  danceability    energy     streams\n",
              "0           0   April  2017      0.682180  0.716642   666608907\n",
              "1           1   April  2018      0.696298  0.697742  1365325611\n",
              "2           2   April  2019      0.676173  0.683238  1638050327\n",
              "3           3  August  2017      0.687942  0.708560   921262815\n",
              "4           4  August  2018      0.695050  0.668515  1150392588"
            ],
            "text/html": [
              "\n",
              "  <div id=\"df-9a5407f0-7b11-417f-bf68-4cac5225af0e\" class=\"colab-df-container\">\n",
              "    <div>\n",
              "<style scoped>\n",
              "    .dataframe tbody tr th:only-of-type {\n",
              "        vertical-align: middle;\n",
              "    }\n",
              "\n",
              "    .dataframe tbody tr th {\n",
              "        vertical-align: top;\n",
              "    }\n",
              "\n",
              "    .dataframe thead th {\n",
              "        text-align: right;\n",
              "    }\n",
              "</style>\n",
              "<table border=\"1\" class=\"dataframe\">\n",
              "  <thead>\n",
              "    <tr style=\"text-align: right;\">\n",
              "      <th></th>\n",
              "      <th>Unnamed: 0</th>\n",
              "      <th>month</th>\n",
              "      <th>year</th>\n",
              "      <th>danceability</th>\n",
              "      <th>energy</th>\n",
              "      <th>streams</th>\n",
              "    </tr>\n",
              "  </thead>\n",
              "  <tbody>\n",
              "    <tr>\n",
              "      <th>0</th>\n",
              "      <td>0</td>\n",
              "      <td>April</td>\n",
              "      <td>2017</td>\n",
              "      <td>0.682180</td>\n",
              "      <td>0.716642</td>\n",
              "      <td>666608907</td>\n",
              "    </tr>\n",
              "    <tr>\n",
              "      <th>1</th>\n",
              "      <td>1</td>\n",
              "      <td>April</td>\n",
              "      <td>2018</td>\n",
              "      <td>0.696298</td>\n",
              "      <td>0.697742</td>\n",
              "      <td>1365325611</td>\n",
              "    </tr>\n",
              "    <tr>\n",
              "      <th>2</th>\n",
              "      <td>2</td>\n",
              "      <td>April</td>\n",
              "      <td>2019</td>\n",
              "      <td>0.676173</td>\n",
              "      <td>0.683238</td>\n",
              "      <td>1638050327</td>\n",
              "    </tr>\n",
              "    <tr>\n",
              "      <th>3</th>\n",
              "      <td>3</td>\n",
              "      <td>August</td>\n",
              "      <td>2017</td>\n",
              "      <td>0.687942</td>\n",
              "      <td>0.708560</td>\n",
              "      <td>921262815</td>\n",
              "    </tr>\n",
              "    <tr>\n",
              "      <th>4</th>\n",
              "      <td>4</td>\n",
              "      <td>August</td>\n",
              "      <td>2018</td>\n",
              "      <td>0.695050</td>\n",
              "      <td>0.668515</td>\n",
              "      <td>1150392588</td>\n",
              "    </tr>\n",
              "  </tbody>\n",
              "</table>\n",
              "</div>\n",
              "    <div class=\"colab-df-buttons\">\n",
              "\n",
              "  <div class=\"colab-df-container\">\n",
              "    <button class=\"colab-df-convert\" onclick=\"convertToInteractive('df-9a5407f0-7b11-417f-bf68-4cac5225af0e')\"\n",
              "            title=\"Convert this dataframe to an interactive table.\"\n",
              "            style=\"display:none;\">\n",
              "\n",
              "  <svg xmlns=\"http://www.w3.org/2000/svg\" height=\"24px\" viewBox=\"0 -960 960 960\">\n",
              "    <path d=\"M120-120v-720h720v720H120Zm60-500h600v-160H180v160Zm220 220h160v-160H400v160Zm0 220h160v-160H400v160ZM180-400h160v-160H180v160Zm440 0h160v-160H620v160ZM180-180h160v-160H180v160Zm440 0h160v-160H620v160Z\"/>\n",
              "  </svg>\n",
              "    </button>\n",
              "\n",
              "  <style>\n",
              "    .colab-df-container {\n",
              "      display:flex;\n",
              "      gap: 12px;\n",
              "    }\n",
              "\n",
              "    .colab-df-convert {\n",
              "      background-color: #E8F0FE;\n",
              "      border: none;\n",
              "      border-radius: 50%;\n",
              "      cursor: pointer;\n",
              "      display: none;\n",
              "      fill: #1967D2;\n",
              "      height: 32px;\n",
              "      padding: 0 0 0 0;\n",
              "      width: 32px;\n",
              "    }\n",
              "\n",
              "    .colab-df-convert:hover {\n",
              "      background-color: #E2EBFA;\n",
              "      box-shadow: 0px 1px 2px rgba(60, 64, 67, 0.3), 0px 1px 3px 1px rgba(60, 64, 67, 0.15);\n",
              "      fill: #174EA6;\n",
              "    }\n",
              "\n",
              "    .colab-df-buttons div {\n",
              "      margin-bottom: 4px;\n",
              "    }\n",
              "\n",
              "    [theme=dark] .colab-df-convert {\n",
              "      background-color: #3B4455;\n",
              "      fill: #D2E3FC;\n",
              "    }\n",
              "\n",
              "    [theme=dark] .colab-df-convert:hover {\n",
              "      background-color: #434B5C;\n",
              "      box-shadow: 0px 1px 3px 1px rgba(0, 0, 0, 0.15);\n",
              "      filter: drop-shadow(0px 1px 2px rgba(0, 0, 0, 0.3));\n",
              "      fill: #FFFFFF;\n",
              "    }\n",
              "  </style>\n",
              "\n",
              "    <script>\n",
              "      const buttonEl =\n",
              "        document.querySelector('#df-9a5407f0-7b11-417f-bf68-4cac5225af0e button.colab-df-convert');\n",
              "      buttonEl.style.display =\n",
              "        google.colab.kernel.accessAllowed ? 'block' : 'none';\n",
              "\n",
              "      async function convertToInteractive(key) {\n",
              "        const element = document.querySelector('#df-9a5407f0-7b11-417f-bf68-4cac5225af0e');\n",
              "        const dataTable =\n",
              "          await google.colab.kernel.invokeFunction('convertToInteractive',\n",
              "                                                    [key], {});\n",
              "        if (!dataTable) return;\n",
              "\n",
              "        const docLinkHtml = 'Like what you see? Visit the ' +\n",
              "          '<a target=\"_blank\" href=https://colab.research.google.com/notebooks/data_table.ipynb>data table notebook</a>'\n",
              "          + ' to learn more about interactive tables.';\n",
              "        element.innerHTML = '';\n",
              "        dataTable['output_type'] = 'display_data';\n",
              "        await google.colab.output.renderOutput(dataTable, element);\n",
              "        const docLink = document.createElement('div');\n",
              "        docLink.innerHTML = docLinkHtml;\n",
              "        element.appendChild(docLink);\n",
              "      }\n",
              "    </script>\n",
              "  </div>\n",
              "\n",
              "\n",
              "<div id=\"df-bbc9b61b-8ce2-4759-b1c3-1fcdf7f793ae\">\n",
              "  <button class=\"colab-df-quickchart\" onclick=\"quickchart('df-bbc9b61b-8ce2-4759-b1c3-1fcdf7f793ae')\"\n",
              "            title=\"Suggest charts\"\n",
              "            style=\"display:none;\">\n",
              "\n",
              "<svg xmlns=\"http://www.w3.org/2000/svg\" height=\"24px\"viewBox=\"0 0 24 24\"\n",
              "     width=\"24px\">\n",
              "    <g>\n",
              "        <path d=\"M19 3H5c-1.1 0-2 .9-2 2v14c0 1.1.9 2 2 2h14c1.1 0 2-.9 2-2V5c0-1.1-.9-2-2-2zM9 17H7v-7h2v7zm4 0h-2V7h2v10zm4 0h-2v-4h2v4z\"/>\n",
              "    </g>\n",
              "</svg>\n",
              "  </button>\n",
              "\n",
              "<style>\n",
              "  .colab-df-quickchart {\n",
              "      --bg-color: #E8F0FE;\n",
              "      --fill-color: #1967D2;\n",
              "      --hover-bg-color: #E2EBFA;\n",
              "      --hover-fill-color: #174EA6;\n",
              "      --disabled-fill-color: #AAA;\n",
              "      --disabled-bg-color: #DDD;\n",
              "  }\n",
              "\n",
              "  [theme=dark] .colab-df-quickchart {\n",
              "      --bg-color: #3B4455;\n",
              "      --fill-color: #D2E3FC;\n",
              "      --hover-bg-color: #434B5C;\n",
              "      --hover-fill-color: #FFFFFF;\n",
              "      --disabled-bg-color: #3B4455;\n",
              "      --disabled-fill-color: #666;\n",
              "  }\n",
              "\n",
              "  .colab-df-quickchart {\n",
              "    background-color: var(--bg-color);\n",
              "    border: none;\n",
              "    border-radius: 50%;\n",
              "    cursor: pointer;\n",
              "    display: none;\n",
              "    fill: var(--fill-color);\n",
              "    height: 32px;\n",
              "    padding: 0;\n",
              "    width: 32px;\n",
              "  }\n",
              "\n",
              "  .colab-df-quickchart:hover {\n",
              "    background-color: var(--hover-bg-color);\n",
              "    box-shadow: 0 1px 2px rgba(60, 64, 67, 0.3), 0 1px 3px 1px rgba(60, 64, 67, 0.15);\n",
              "    fill: var(--button-hover-fill-color);\n",
              "  }\n",
              "\n",
              "  .colab-df-quickchart-complete:disabled,\n",
              "  .colab-df-quickchart-complete:disabled:hover {\n",
              "    background-color: var(--disabled-bg-color);\n",
              "    fill: var(--disabled-fill-color);\n",
              "    box-shadow: none;\n",
              "  }\n",
              "\n",
              "  .colab-df-spinner {\n",
              "    border: 2px solid var(--fill-color);\n",
              "    border-color: transparent;\n",
              "    border-bottom-color: var(--fill-color);\n",
              "    animation:\n",
              "      spin 1s steps(1) infinite;\n",
              "  }\n",
              "\n",
              "  @keyframes spin {\n",
              "    0% {\n",
              "      border-color: transparent;\n",
              "      border-bottom-color: var(--fill-color);\n",
              "      border-left-color: var(--fill-color);\n",
              "    }\n",
              "    20% {\n",
              "      border-color: transparent;\n",
              "      border-left-color: var(--fill-color);\n",
              "      border-top-color: var(--fill-color);\n",
              "    }\n",
              "    30% {\n",
              "      border-color: transparent;\n",
              "      border-left-color: var(--fill-color);\n",
              "      border-top-color: var(--fill-color);\n",
              "      border-right-color: var(--fill-color);\n",
              "    }\n",
              "    40% {\n",
              "      border-color: transparent;\n",
              "      border-right-color: var(--fill-color);\n",
              "      border-top-color: var(--fill-color);\n",
              "    }\n",
              "    60% {\n",
              "      border-color: transparent;\n",
              "      border-right-color: var(--fill-color);\n",
              "    }\n",
              "    80% {\n",
              "      border-color: transparent;\n",
              "      border-right-color: var(--fill-color);\n",
              "      border-bottom-color: var(--fill-color);\n",
              "    }\n",
              "    90% {\n",
              "      border-color: transparent;\n",
              "      border-bottom-color: var(--fill-color);\n",
              "    }\n",
              "  }\n",
              "</style>\n",
              "\n",
              "  <script>\n",
              "    async function quickchart(key) {\n",
              "      const quickchartButtonEl =\n",
              "        document.querySelector('#' + key + ' button');\n",
              "      quickchartButtonEl.disabled = true;  // To prevent multiple clicks.\n",
              "      quickchartButtonEl.classList.add('colab-df-spinner');\n",
              "      try {\n",
              "        const charts = await google.colab.kernel.invokeFunction(\n",
              "            'suggestCharts', [key], {});\n",
              "      } catch (error) {\n",
              "        console.error('Error during call to suggestCharts:', error);\n",
              "      }\n",
              "      quickchartButtonEl.classList.remove('colab-df-spinner');\n",
              "      quickchartButtonEl.classList.add('colab-df-quickchart-complete');\n",
              "    }\n",
              "    (() => {\n",
              "      let quickchartButtonEl =\n",
              "        document.querySelector('#df-bbc9b61b-8ce2-4759-b1c3-1fcdf7f793ae button');\n",
              "      quickchartButtonEl.style.display =\n",
              "        google.colab.kernel.accessAllowed ? 'block' : 'none';\n",
              "    })();\n",
              "  </script>\n",
              "</div>\n",
              "\n",
              "    </div>\n",
              "  </div>\n"
            ],
            "application/vnd.google.colaboratory.intrinsic+json": {
              "type": "dataframe",
              "variable_name": "q1_data",
              "summary": "{\n  \"name\": \"q1_data\",\n  \"rows\": 36,\n  \"fields\": [\n    {\n      \"column\": \"Unnamed: 0\",\n      \"properties\": {\n        \"dtype\": \"number\",\n        \"std\": 10,\n        \"min\": 0,\n        \"max\": 35,\n        \"num_unique_values\": 36,\n        \"samples\": [\n          35,\n          13,\n          26\n        ],\n        \"semantic_type\": \"\",\n        \"description\": \"\"\n      }\n    },\n    {\n      \"column\": \"month\",\n      \"properties\": {\n        \"dtype\": \"category\",\n        \"num_unique_values\": 12,\n        \"samples\": [\n          \"October\",\n          \"November\",\n          \"April\"\n        ],\n        \"semantic_type\": \"\",\n        \"description\": \"\"\n      }\n    },\n    {\n      \"column\": \"year\",\n      \"properties\": {\n        \"dtype\": \"number\",\n        \"std\": 0,\n        \"min\": 2017,\n        \"max\": 2019,\n        \"num_unique_values\": 3,\n        \"samples\": [\n          2017,\n          2018,\n          2019\n        ],\n        \"semantic_type\": \"\",\n        \"description\": \"\"\n      }\n    },\n    {\n      \"column\": \"danceability\",\n      \"properties\": {\n        \"dtype\": \"number\",\n        \"std\": 0.008715337729676295,\n        \"min\": 0.6669062927496581,\n        \"max\": 0.7018431818181818,\n        \"num_unique_values\": 36,\n        \"samples\": [\n          0.684632,\n          0.6995589651022863,\n          0.6762588757396449\n        ],\n        \"semantic_type\": \"\",\n        \"description\": \"\"\n      }\n    },\n    {\n      \"column\": \"energy\",\n      \"properties\": {\n        \"dtype\": \"number\",\n        \"std\": 0.018403211361342535,\n        \"min\": 0.6630804953560372,\n        \"max\": 0.7323269493844049,\n        \"num_unique_values\": 36,\n        \"samples\": [\n          0.6836708571428571,\n          0.7076113116726835,\n          0.6800019970414202\n        ],\n        \"semantic_type\": \"\",\n        \"description\": \"\"\n      }\n    },\n    {\n      \"column\": \"streams\",\n      \"properties\": {\n        \"dtype\": \"number\",\n        \"std\": 355476714,\n        \"min\": 640056336,\n        \"max\": 2249310756,\n        \"num_unique_values\": 36,\n        \"samples\": [\n          1946252771,\n          1457783813,\n          1274849101\n        ],\n        \"semantic_type\": \"\",\n        \"description\": \"\"\n      }\n    }\n  ]\n}"
            }
          },
          "metadata": {},
          "execution_count": 8
        }
      ]
    },
    {
      "cell_type": "code",
      "source": [
        "ordered_months = ['January', 'February', 'March', 'April', 'May', 'June', 'July', 'August', 'September', 'October', 'November', 'December']\n",
        "\n",
        "dropdown_year = alt.binding_select(\n",
        "    options=q1_data['year'].unique().tolist(),\n",
        "    name='Escolha o ano '\n",
        ")\n",
        "\n",
        "dropdown_song = alt.binding_select(\n",
        "    options=['energy', 'danceability', 'streams'],\n",
        "    name='Categoria musical: '\n",
        ")\n",
        "ycol_param = alt.param(\n",
        "    value='energy',\n",
        "    bind=dropdown_song\n",
        ")\n",
        "\n",
        "grafico = alt.Chart(q1_data,  width=800, height=300).mark_line().encode(\n",
        "    alt.X('month', type='nominal', title='Mês', sort=ordered_months),\n",
        "    alt.Y('y', type='quantitative', title='Média categoria musical selecionada'),\n",
        "    color=alt.Color('year:O', title='Ano', scale=alt.Scale( range=['red', 'green', 'blue'])),\n",
        ").transform_calculate(\n",
        "    y=f'datum[{ycol_param.name}]'\n",
        "\n",
        ").add_params(\n",
        "    ycol_param,\n",
        ").properties(title='Média de Valência, danciabilidade e streams das musicas brasileiras durante os anos de 2017 a 2019')\n",
        "\n",
        "circulos = grafico.mark_circle()\n",
        "(grafico + circulos).properties(padding=20)"
      ],
      "metadata": {
        "id": "42kNX1cjtHGc",
        "colab": {
          "base_uri": "https://localhost:8080/",
          "height": 211
        },
        "outputId": "c1e67fe9-b8f0-4657-d522-27ce34a44282"
      },
      "execution_count": 9,
      "outputs": [
        {
          "output_type": "error",
          "ename": "AttributeError",
          "evalue": "module 'altair' has no attribute 'param'",
          "traceback": [
            "\u001b[0;31m---------------------------------------------------------------------------\u001b[0m",
            "\u001b[0;31mAttributeError\u001b[0m                            Traceback (most recent call last)",
            "\u001b[0;32m<ipython-input-9-16973f7eb038>\u001b[0m in \u001b[0;36m<cell line: 12>\u001b[0;34m()\u001b[0m\n\u001b[1;32m     10\u001b[0m     \u001b[0mname\u001b[0m\u001b[0;34m=\u001b[0m\u001b[0;34m'Categoria musical: '\u001b[0m\u001b[0;34m\u001b[0m\u001b[0;34m\u001b[0m\u001b[0m\n\u001b[1;32m     11\u001b[0m )\n\u001b[0;32m---> 12\u001b[0;31m ycol_param = alt.param(\n\u001b[0m\u001b[1;32m     13\u001b[0m     \u001b[0mvalue\u001b[0m\u001b[0;34m=\u001b[0m\u001b[0;34m'energy'\u001b[0m\u001b[0;34m,\u001b[0m\u001b[0;34m\u001b[0m\u001b[0;34m\u001b[0m\u001b[0m\n\u001b[1;32m     14\u001b[0m     \u001b[0mbind\u001b[0m\u001b[0;34m=\u001b[0m\u001b[0mdropdown_song\u001b[0m\u001b[0;34m\u001b[0m\u001b[0;34m\u001b[0m\u001b[0m\n",
            "\u001b[0;31mAttributeError\u001b[0m: module 'altair' has no attribute 'param'"
          ]
        }
      ]
    },
    {
      "cell_type": "markdown",
      "source": [
        "**<h2>Motivação**\n",
        "\n",
        "A escolha foi feita para analisar as interações médias relacionadas à 'energia', 'danceabilidade' e 'número de streams' das músicas brasileiras, com o objetivo de observar a variação ao longo do ano. A representação visual dos dados foi realizada por meio de marcadores de linha e pontos para destacar a sequência temporal.\n",
        "\n",
        "**<h2>Análise**\n",
        "\n",
        "A análise revelou que, no período de 2017 a 2019, as músicas ouvidas no Brasil apresentaram pouca variação ao longo desse intervalo de tempo. Além disso, destaca-se que as médias de 'danceabilidade' e 'energia' mantiveram-se consistentemente elevadas.\n",
        "\n",
        "Quanto aos streams, observou-se um padrão: nos meses de abril e julho, ocorreram picos na média de streamings, indicando um aumento ao longo do ano. Essa tendência pode estar relacionada a fatores como os períodos de férias e um aumento no número de ouvintes brasileiros no Spotify."
      ],
      "metadata": {
        "id": "EsDjepmaqq4V"
      }
    },
    {
      "cell_type": "markdown",
      "source": [
        "**<h1>Questão 2</h1>**\n",
        "## Qual top 5 maiores artistas (aqueles que possuem mais streamings no top 200) de um determinado ano em um determinado país ou mundialmente (global) e quais seus gêneros musicais?"
      ],
      "metadata": {
        "id": "a8BIxP-Ub9CF"
      }
    },
    {
      "cell_type": "code",
      "source": [
        "q2_data = pd.read_csv('/content/drive/My Drive/Disciplinas/2023.2/Visualização de Dados/Trabalhos/Trabalho 02/analysis/q2_data.csv')\n",
        "q2_data.columns"
      ],
      "metadata": {
        "id": "oD0IsFWKZ0cG"
      },
      "execution_count": null,
      "outputs": []
    },
    {
      "cell_type": "code",
      "source": [
        "dropdown_year = alt.binding_select(\n",
        "    options= q2_data['year'].unique().tolist(),\n",
        "    name='Ano: '\n",
        ")\n",
        "\n",
        "dropdown_country = alt.binding_select(\n",
        "    options= q2_data['country'].unique().tolist(),\n",
        "    name='País ou visão global: '\n",
        ")\n",
        "\n",
        "year_select = alt.selection_point(fields=['year'], bind=dropdown_year, value=2017)\n",
        "country_select = alt.selection_point(fields=['country'], bind=dropdown_country, value='global')\n",
        "\n",
        "def make_scale(country_select):\n",
        "  y_scale = alt.Scale(\n",
        "    domain=(0, 5000000000) if country_select == 'global' else (0, 100)\n",
        "  )\n",
        "  return y_scale\n",
        "\n",
        "# y_scale = alt.Scale(domain=(0, 5000000000) if country_select == 'global' else (0, 10000000))\n",
        "grafico = alt.Chart(q2_data, width=600, height=300).mark_bar(\n",
        "    width=50,\n",
        "    height=50\n",
        ").encode(\n",
        "    alt.X('artist_name', type='nominal', title='Artistas'),\n",
        "    alt.Y('streams', type='quantitative', title='Número de Streams durante o ano'),\n",
        "    tooltip=['image']\n",
        "    # tooltip=alt.Tooltip(['image:N'], scale=alt.Scale(domain=[0, 1], range=[0, 1]))\n",
        ").add_selection(\n",
        "    year_select,\n",
        "    country_select\n",
        ").transform_filter(\n",
        "    year_select & country_select\n",
        ").properties(title='Top 5 Artistas do ano do país e ano selecionados')\n",
        "\n",
        "generos = grafico.mark_text(align='center', baseline='middle', dy=-10).encode(\n",
        "    text='genres'\n",
        ")\n",
        "\n",
        "(grafico + generos).properties(padding=20)"
      ],
      "metadata": {
        "id": "ivS1wXFBzF0i"
      },
      "execution_count": null,
      "outputs": []
    },
    {
      "cell_type": "markdown",
      "source": [
        "**<h2>Motivação**\n",
        "\n",
        "Foi escolhido o canal visual da área das barras para representar o número de streams de artistas, tanto em nível nacional quanto mundial. A escolha de interações, como ano e visão global ou por país, foi feita pensando em análises individuais em períodos específicos e regiões determinadas.\n",
        "\n",
        "A inclusão da imagem do artista ao passar o mouse serve primariamente como elemento decorativo, permitindo a visualização da foto do artista. Isso possibilita a observação de seu estilo, e, em alguns casos, sua etnia e gênero.\n",
        "\n",
        "Os gêneros acima de cada barra indicam a categoria musical do respectivo artista, permitindo a identificação dos gêneros musicais mais populares em determinado ano em determinada região.\n",
        "\n",
        "**<h2>Análise**\n",
        "\n",
        "Desse gráfico podemos perceber diversas análises, com destaque para:\n",
        "\n",
        "\n",
        "*   Visão global de 2019: Cada artista apresentado obteve um grande destaque, o que pode ser justificado pela pesquisa indicando que Ariana Grande, Billie Eilish e Post Malone lançaram álbuns de grande sucesso nesse ano. Além disso, eventos como o falecimento do rapper XXTENTATION no final de 2018 e o lançamento do filme da banda \"Queen\" no mesmo ano contribuíram para esse destaque.\n",
        "*  Visões brasileiras: Ao longo dos anos, mesmo com a percepção comum de que o 'funk' e o 'pop' são os gêneros mais ouvidos, observa-se a presença marcante do gênero 'sertanejo' no Brasil. Isso pode ser explicado pela influência cultural histórica do agronegócio e sua interferência em vários ambientes, dentre um deles o musical."
      ],
      "metadata": {
        "id": "hNAzbee-u7hz"
      }
    },
    {
      "cell_type": "markdown",
      "source": [
        "**<h1>Questão 3</h1>**\n",
        "## Análise de popularidade de uma música: o que faz ela ser mais popular? o tempo, a danceabilidade ou a energia?"
      ],
      "metadata": {
        "id": "NV_pFzGdcVgN"
      }
    },
    {
      "cell_type": "code",
      "source": [
        "q3_data = pd.read_csv('/content/drive/My Drive/Disciplinas/2023.2/Visualização de Dados/Trabalhos/Trabalho 02/analysis/q3_data.csv')\n",
        "q3_data.head()"
      ],
      "metadata": {
        "id": "lDT69n4MczLP"
      },
      "execution_count": null,
      "outputs": []
    },
    {
      "cell_type": "code",
      "source": [
        "dropdown_xcol = alt.binding_select(\n",
        "    options=['danceability', 'energy', 'duration_ms', 'valence'],\n",
        "    name='Coluna X: '\n",
        ")\n",
        "xcol_param = alt.param(\n",
        "    value='danceability',\n",
        "    bind=dropdown_xcol\n",
        ")\n",
        "\n",
        "list_years = sorted(q3_data['interval'].unique().tolist())\n",
        "input_dropdown = alt.binding_select(options=list_years, name='Ano de lançamento: ')\n",
        "selection = alt.selection_single(fields=['interval'], bind=input_dropdown)\n",
        "color = alt.condition(\n",
        "    selection,\n",
        "    alt.Color('interval:N', title='Ano de Lançamento', scale=alt.Scale(domain=list_years,  range=['red', 'green', 'blue', 'purple']), legend=None),\n",
        "    alt.value('lightgray')\n",
        ")\n",
        "\n",
        "points = alt.Chart(q3_data, width=400, height=400).mark_circle().encode(\n",
        "    alt.X('x', type='quantitative'),\n",
        "    alt.Y('popularity', type='quantitative', title='Popularidade da Música'),\n",
        "    color=color,\n",
        "    tooltip = ['year_release', 'song_name']\n",
        ").transform_calculate(\n",
        "    x=f'datum[{xcol_param.name}]'\n",
        ").add_params(\n",
        "    xcol_param,\n",
        ").add_selection(\n",
        "    selection\n",
        ").properties(title='Coluna X selecionada vs. Popularidade vs. Ano de Lançamento')\n",
        "\n",
        "points"
      ],
      "metadata": {
        "id": "lZgazvr-zaqG"
      },
      "execution_count": null,
      "outputs": []
    },
    {
      "cell_type": "markdown",
      "source": [
        "**<h2>Motivação**\n",
        "\n",
        "Foi escolhido marcadores de pontos para representar cada música, com cores diferentes para indicar o ano de lançamento de cada uma. Essa escolha foi feita para destacar as características específicas de uma música em um determinado período de tempo.\n",
        "\n",
        "**<h2>Análise**\n",
        "\n",
        "\n",
        "*   Danceabilidade: Apesar da pouca quantidade de músicas dos anos mais antigos no dataset, é possível inferir que ao longo do tempo, as músicas se tornaram progressivamente mais dançantes. Em média, uma música com uma pontuação de danceabilidade entre 0.5 e 0.9 parece ter maior probabilidade de se tornar popular.\n",
        "*   Energia: Assim como na danceabilidade, a energia das músicas aumentou ao longo dos anos. No entanto, observa-se que esse fator sozinho não determina a popularidade de uma música.\n",
        "*   Duração da Música: é possível perceber que as músicas foram se tornando cada vez mais rápidas a partir dos anos 2000\n",
        "*   Valencia: Este é o item mais distribuído entre os quatro analisados.\n",
        "\n",
        "**Conclusão**: A popularidade de uma música parece depender de uma combinação de diversos valores. A observação da danceabilidade, energia, duração e valência ao longo do tempo revela mudanças significativas, indicando que são necessários múltiplos elementos para determinar se uma música vai ser aceita ou não pelo público\n",
        "\n",
        "\n",
        "\n",
        "\n",
        "\n",
        "\n"
      ],
      "metadata": {
        "id": "DSLa9eR7zHIN"
      }
    },
    {
      "cell_type": "markdown",
      "source": [
        "**<h1>Questão 4</h1>**\n",
        "## Em que países o 10 gêneros mais populares do mundo são mais ouvidos? Houve uma mudança durante os anos?"
      ],
      "metadata": {
        "id": "qYdHvDiuc2KP"
      }
    },
    {
      "cell_type": "code",
      "source": [
        "q4_data = pd.read_csv('/content/drive/My Drive/Disciplinas/2023.2/Visualização de Dados/Trabalhos/Trabalho 02/analysis/q4_data.csv')\n",
        "q4_data.head()"
      ],
      "metadata": {
        "id": "O2LJw81Ln391"
      },
      "execution_count": null,
      "outputs": []
    },
    {
      "cell_type": "code",
      "source": [
        "list_genres = q4_data['genres'].unique()\n",
        "\n",
        "dropdown_genres = alt.binding_select(\n",
        "    options=list_genres,\n",
        "    name='Gênero Musical: '\n",
        ")\n",
        "x_param = alt.param(\n",
        "    value='rap',\n",
        "    bind=dropdown_genres\n",
        ")\n",
        "grafico = alt.Chart(q4_data, width=50, height=450).mark_bar().encode(\n",
        "    alt.X('year:O', title='Ano'),\n",
        "    alt.Y('sum(streams)', type='quantitative', title='Total de Streams'),\n",
        "    alt.Color(\"year:N\", title='Ano'),\n",
        "    alt.Tooltip('sum(streams)')\n",
        ").transform_calculate(\n",
        "    x=f'datum[{x_param.name}]'\n",
        ").add_selection(\n",
        "    x_param\n",
        ").transform_filter(\n",
        "    alt.FieldEqualPredicate(field='genres', equal=x_param),\n",
        ")\n",
        "\n",
        "alt.layer(\n",
        "    grafico.mark_bar(),\n",
        ").facet(\n",
        "    alt.Column(\"country:N\", title='Quantidade de streams por um dos 10 gêneros musicais mais ouvidos no mundo em cada país'),\n",
        ").configure_facet(spacing=10)\n"
      ],
      "metadata": {
        "id": "0y_DMz7Nn2Bf"
      },
      "execution_count": null,
      "outputs": []
    },
    {
      "cell_type": "markdown",
      "source": [
        "**<h2>Motivação**\n",
        "\n",
        "Foram escolhidas a área das barras como canais visuais, dessa maneira é possível observar o volume de streamings de um determinado gênero escolhido nos países durante os anos de 2017-2019.  A inclusão da função de passar o mouse sobre as barras foi usada para fornecer dados precisos sobre o número exato de streamings.\n",
        "\n",
        "**<h2>Análise**\n",
        "\n",
        "A presença grande do rap e em outros gêneros nos Estados Unidos destaca-se de forma notável. Uma possível explicação para esse destaque constante dos EUA pode ser relacionada à origem do Spotify, criado nesse país. A fundação da plataforma nos Estados Unidos pode ter incentivado significativamente seu uso nessa região.\n",
        "\n",
        "Além disso, chama a atenção a popularidade do sertanejo, aparecendo entre os 10 gêneros mais escutados globalmente, juntamente com gêneros como electro e pop, que também deixam sua marca aqui no país\n",
        "\n",
        "É interessante notar, por exemplo, em gêneros como tropical house, que quando há uma diminuição nos streams nos EUA, essa tendência é refletida em outros países. Isso evidencia a influência significativa que os EUA exercem sobre as preferências musicais globais, destacando a potência de sua capacidade de influenciar tendências em escala internacional."
      ],
      "metadata": {
        "id": "N9OKBr1H3_k1"
      }
    }
  ]
}